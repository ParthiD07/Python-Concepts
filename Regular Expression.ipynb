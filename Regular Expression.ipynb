{
 "cells": [
  {
   "cell_type": "markdown",
   "metadata": {},
   "source": [
    "Regular expression"
   ]
  },
  {
   "cell_type": "code",
   "execution_count": 2,
   "metadata": {},
   "outputs": [],
   "source": [
    "import re"
   ]
  },
  {
   "cell_type": "code",
   "execution_count": 4,
   "metadata": {},
   "outputs": [
    {
     "name": "stdout",
     "output_type": "stream",
     "text": [
      "incorrect\n"
     ]
    }
   ],
   "source": [
    "txt = \"pakistan\"\n",
    "# '^' - Matches the start of the string\n",
    "if re.search(\"^i\", txt): \n",
    "  print(\"correct\")\n",
    "else:\n",
    "  print(\"incorrect\")"
   ]
  },
  {
   "cell_type": "code",
   "execution_count": 5,
   "metadata": {},
   "outputs": [
    {
     "name": "stdout",
     "output_type": "stream",
     "text": [
      "correct\n"
     ]
    }
   ],
   "source": [
    "txt = \"pakistan\"\n",
    "# '$'- Matches the end of the string\n",
    "if re.search(\"n$\", txt): \n",
    "  print(\"correct\")\n",
    "else:\n",
    "  print(\"incorrect\")"
   ]
  },
  {
   "cell_type": "code",
   "execution_count": 8,
   "metadata": {},
   "outputs": [
    {
     "name": "stdout",
     "output_type": "stream",
     "text": [
      "correct\n"
     ]
    }
   ],
   "source": [
    "#starting with i ending with a\n",
    "txt = \"ina\"\n",
    "# '.' - Matches any single character except newline.\n",
    "if re.search(\"^i.a$\", txt):\n",
    "  print(\"correct\")\n",
    "else:\n",
    "  print(\"incorrect\")"
   ]
  },
  {
   "cell_type": "code",
   "execution_count": 10,
   "metadata": {},
   "outputs": [
    {
     "name": "stdout",
     "output_type": "stream",
     "text": [
      "correct\n"
     ]
    }
   ],
   "source": [
    "#starting with i ending with a\n",
    "txt = \"india\"\n",
    "# '*' - Matches 0 or more repetitions of the preceding element/character\n",
    "if re.search(\"^i.*a$\", txt):\n",
    "  print(\"correct\")\n",
    "else:\n",
    "  print(\"incorrect\")"
   ]
  },
  {
   "cell_type": "code",
   "execution_count": 20,
   "metadata": {},
   "outputs": [
    {
     "name": "stdout",
     "output_type": "stream",
     "text": [
      "correct\n"
     ]
    }
   ],
   "source": [
    "txt = \"iha\"\n",
    "# '+' - Matches 1 or more repetitions of the preceding element.\n",
    "#ending with\n",
    "if re.search(\"^i.+a$\", txt):\n",
    "  print(\"correct\")\n",
    "else:\n",
    "  print(\"incorrect\")"
   ]
  },
  {
   "cell_type": "code",
   "execution_count": 26,
   "metadata": {},
   "outputs": [
    {
     "name": "stdout",
     "output_type": "stream",
     "text": [
      "india2344\n"
     ]
    }
   ],
   "source": [
    "a = [\"india2344\",\"india\"]\n",
    "# '[]'-Matches any single character within the brackets\n",
    "for i in a:\n",
    "  if re.search(\"[0-9]\",i):\n",
    "    print(i)"
   ]
  },
  {
   "cell_type": "code",
   "execution_count": 27,
   "metadata": {},
   "outputs": [
    {
     "name": "stdout",
     "output_type": "stream",
     "text": [
      "india\n"
     ]
    }
   ],
   "source": [
    "a = [\"india\",\"pakistan\",\"china\"]\n",
    "# '[]'-Matches any single character starting with the words mentioned within bracket\n",
    "for i in a:\n",
    "  if re.search(\"^[aeiou]\",i):\n",
    "    print(i)"
   ]
  },
  {
   "cell_type": "code",
   "execution_count": 45,
   "metadata": {},
   "outputs": [],
   "source": [
    "# ^[aeiou] => starting with\n",
    "#[^aeiou] => other than this"
   ]
  },
  {
   "cell_type": "code",
   "execution_count": 24,
   "metadata": {},
   "outputs": [
    {
     "name": "stdout",
     "output_type": "stream",
     "text": [
      "pakistan\n",
      "china\n"
     ]
    }
   ],
   "source": [
    "a = [\"i\",\"pakistan\",\"china\"]\n",
    "# '[^]'- Matches any single character not in the brackets\n",
    "for i in a:\n",
    "  if re.search(\"[^aeiou]\",i):\n",
    "    print(i)"
   ]
  },
  {
   "cell_type": "code",
   "execution_count": 28,
   "metadata": {},
   "outputs": [
    {
     "name": "stdout",
     "output_type": "stream",
     "text": [
      "9234567890\n"
     ]
    }
   ],
   "source": [
    "a = [\"india2344\",\"india\",\"9894232223222\",\"9234567890\"]\n",
    "# '{}'- Matches a specified number of repetitions of the preceding element\n",
    "for i in a:\n",
    "  if re.search(\"^[9][0-9]{9}$\",i):\n",
    "    print(i)"
   ]
  },
  {
   "cell_type": "code",
   "execution_count": 29,
   "metadata": {},
   "outputs": [
    {
     "name": "stdout",
     "output_type": "stream",
     "text": [
      "989423222399\n"
     ]
    }
   ],
   "source": [
    "a = [\"india2344\",\"india\",\"989423222399\",\"1234567890\"]\n",
    "for i in a:\n",
    "  if re.search(\"^9[0-9]\",i):\n",
    "    print(i)"
   ]
  },
  {
   "cell_type": "code",
   "execution_count": 33,
   "metadata": {},
   "outputs": [
    {
     "name": "stdout",
     "output_type": "stream",
     "text": [
      "'color' matches\n",
      "'colour' matches\n",
      "'colorr' does not match\n"
     ]
    }
   ],
   "source": [
    "#r\"colou?r\": The u? part of the pattern means that the character \"u\" can appear 0 or 1 time.\n",
    "\n",
    "# '?'- Matches 0 or 1 repetition of the preceding element\n",
    "\n",
    "pattern = r\"colou?r\"\n",
    "test_strings = [\"color\", \"colour\", \"colorr\"]\n",
    "\n",
    "for string in test_strings:\n",
    "    #re.fullmatch to ensure the entire string is checked against the pattern\n",
    "    match = re.fullmatch(pattern, string) \n",
    "    if match:\n",
    "        print(f\"'{string}' matches\")\n",
    "    else:\n",
    "        print(f\"'{string}' does not match\")"
   ]
  },
  {
   "cell_type": "code",
   "execution_count": 34,
   "metadata": {},
   "outputs": [
    {
     "name": "stdout",
     "output_type": "stream",
     "text": [
      "indian1\n"
     ]
    }
   ],
   "source": [
    "a = [\"india\",\"pakistan\",\"china\",\"india100\",\"indian1\"]\n",
    "for i in a:\n",
    "  if re.search(\"^[aeiou].{5}[0-9]$\",i):\n",
    "    print(i)"
   ]
  },
  {
   "cell_type": "code",
   "execution_count": 37,
   "metadata": {},
   "outputs": [
    {
     "name": "stdout",
     "output_type": "stream",
     "text": [
      "ch ina\n",
      "ind  ia100\n"
     ]
    }
   ],
   "source": [
    "#to find the space\n",
    "#'\\s' matches any whitespace character (spaces, tabs, newlines).\n",
    "a = [\"india\",\"pakistan\",\"ch ina\",\"ind  ia100\",\"indian1\"]\n",
    "for i in a:\n",
    "  if re.search(r'\\s',i):\n",
    "    print(i)"
   ]
  },
  {
   "cell_type": "code",
   "execution_count": 40,
   "metadata": {},
   "outputs": [
    {
     "name": "stdout",
     "output_type": "stream",
     "text": [
      "india100\n",
      "indian1\n"
     ]
    }
   ],
   "source": [
    "#text with digits\n",
    "# '\\d' matches any digit, equivalent to [0-9].\n",
    "a = [\"india\",\"pakistan\",\"ch ina\",\"india100\",\"indian1\"]\n",
    "for i in a:\n",
    "  if re.search(r'\\d',i):\n",
    "    print(i)"
   ]
  },
  {
   "cell_type": "code",
   "execution_count": 42,
   "metadata": {},
   "outputs": [
    {
     "name": "stdout",
     "output_type": "stream",
     "text": [
      "india\n",
      "pakistan\n",
      "ch ina\n",
      "india100\n",
      "indian1\n"
     ]
    }
   ],
   "source": [
    "#except digits only\n",
    "#'\\D' matches any non-digit character\n",
    "a = [\"india\",\"pakistan\",\"ch ina\",\"india100\",\"indian1\",\"111\"]\n",
    "for i in a:\n",
    "  if re.search(r\"\\D\",i):\n",
    "    print(i)"
   ]
  },
  {
   "cell_type": "code",
   "execution_count": 44,
   "metadata": {},
   "outputs": [
    {
     "name": "stdout",
     "output_type": "stream",
     "text": [
      "ch ina\n",
      "india^&^%&&n1\n",
      "!!111\n"
     ]
    }
   ],
   "source": [
    "#W -> special characters\n",
    "# '\\W' matches any non-word character.\n",
    "a = [\"india\",\"pakistan\",\"ch ina\",\"india100\",\"india^&^%&&n1\",\"!!111\"]\n",
    "for i in a:\n",
    "  if re.search(r\"\\W\",i):\n",
    "    print(i)"
   ]
  },
  {
   "cell_type": "markdown",
   "metadata": {},
   "source": [
    "Match\n",
    "\n",
    "Match a regular expression pattern to the beginning of a string"
   ]
  },
  {
   "cell_type": "code",
   "execution_count": 53,
   "metadata": {},
   "outputs": [
    {
     "name": "stdout",
     "output_type": "stream",
     "text": [
      "<re.Match object; span=(0, 6), match='123.89'>\n",
      "123.89\n"
     ]
    }
   ],
   "source": [
    "#re.match(pattern, string)\n",
    "r = re.match(r'\\d+\\.\\d*', '123.89float')\n",
    "print(r)\n",
    "print(r.group()) if r else print ('No match')"
   ]
  },
  {
   "cell_type": "code",
   "execution_count": 9,
   "metadata": {},
   "outputs": [
    {
     "name": "stdout",
     "output_type": "stream",
     "text": [
      "It is a match\n"
     ]
    }
   ],
   "source": [
    "# Checking the first word\n",
    "data_text = \"I am from MDT32 my mobile number is 9 8 7 6 45 12 3 5 6 66 6 6 am\"\n",
    "pattern = r'^i'\n",
    "if re.match(pattern, data_text, re.IGNORECASE):\n",
    "  print(\"It is a match\")\n",
    "else:\n",
    "  print('No Match')"
   ]
  },
  {
   "cell_type": "markdown",
   "metadata": {},
   "source": [
    "Fullmatch\n",
    "\n",
    "Match a regular expression pattern to all of a string"
   ]
  },
  {
   "cell_type": "code",
   "execution_count": 60,
   "metadata": {},
   "outputs": [
    {
     "name": "stdout",
     "output_type": "stream",
     "text": [
      "123.89\n"
     ]
    }
   ],
   "source": [
    "r1 = re.fullmatch(r'\\d+\\.\\d*', '123.89float') #this will not match\n",
    "r2 = re.fullmatch(r'\\d+\\.\\d*', '123.89')\n",
    "\n",
    "print(r2.group()) if r else print ('No match')"
   ]
  },
  {
   "cell_type": "markdown",
   "metadata": {},
   "source": [
    "Search\n",
    "\n",
    "Search a string for the presence of a pattern"
   ]
  },
  {
   "cell_type": "code",
   "execution_count": 70,
   "metadata": {},
   "outputs": [
    {
     "data": {
      "text/plain": [
       "<re.Match object; span=(5, 11), match='123.89'>"
      ]
     },
     "execution_count": 70,
     "metadata": {},
     "output_type": "execute_result"
    }
   ],
   "source": [
    "re.search(r'\\d+\\.\\d+', 'real 123.89')"
   ]
  },
  {
   "cell_type": "markdown",
   "metadata": {},
   "source": [
    "Substitute\n",
    "\n",
    "Substitute occurrences of a pattern found in a string by replacing and return \n",
    "the resulted string"
   ]
  },
  {
   "cell_type": "code",
   "execution_count": 65,
   "metadata": {},
   "outputs": [
    {
     "data": {
      "text/plain": [
       "'PyThon is greaT.'"
      ]
     },
     "execution_count": 65,
     "metadata": {},
     "output_type": "execute_result"
    }
   ],
   "source": [
    "#re.sub(pattern,replace,string)\n",
    "re.sub('t', 'T', 'Python is great.')"
   ]
  },
  {
   "cell_type": "code",
   "execution_count": 10,
   "metadata": {},
   "outputs": [
    {
     "name": "stdout",
     "output_type": "stream",
     "text": [
      "indian\n"
     ]
    }
   ],
   "source": [
    "# Replacing the values\n",
    "a = \"india  n\"\n",
    "result = re.sub(r'[^a-zA-Z0-9]',\"\",a)\n",
    "\n",
    "print(result)"
   ]
  },
  {
   "cell_type": "code",
   "execution_count": 8,
   "metadata": {},
   "outputs": [
    {
     "data": {
      "text/plain": [
       "'Hello I am from MDT-9999 my mobile number is -9999 -9999 -9999 -9999 -9999 -9999 -9999 -9999 -9999 -9999 -9999 -9999'"
      ]
     },
     "execution_count": 8,
     "metadata": {},
     "output_type": "execute_result"
    }
   ],
   "source": [
    "# Replacing the values\n",
    "data_text = \"Hello I am from MDT32 my mobile number is 9 8 7 6 45 12 3 5 6 66 6 6\"\n",
    "pattern = r'\\d+'\n",
    "replacement_value = '-9999'\n",
    "replaced_text = re.sub(pattern, replacement_value, data_text)\n",
    "replaced_text"
   ]
  },
  {
   "cell_type": "code",
   "execution_count": 11,
   "metadata": {},
   "outputs": [
    {
     "data": {
      "text/plain": [
       "'india is my cou   ntry all indians ar               e my brothers to my count               ry and my  propel'"
      ]
     },
     "execution_count": 11,
     "metadata": {},
     "output_type": "execute_result"
    }
   ],
   "source": [
    "a = \"india is my cou   ntry all indians ar               e my brothers$%%^&*(*&^%$%^&) to my count               ry and my %^&^%^ propel232123\"\n",
    "a=re.sub(r'[^a-zA-Z\\s]',\"\",a)\n",
    "a"
   ]
  },
  {
   "cell_type": "code",
   "execution_count": 12,
   "metadata": {},
   "outputs": [
    {
     "data": {
      "text/plain": [
       "'india is my country all indians are my brothers to my country and mypropel'"
      ]
     },
     "execution_count": 12,
     "metadata": {},
     "output_type": "execute_result"
    }
   ],
   "source": [
    "a=re.sub(r'\\s +','  ', a)\n",
    "re.sub(r'\\s +','', a)"
   ]
  },
  {
   "cell_type": "markdown",
   "metadata": {},
   "source": [
    "Substitute number\n",
    "\n",
    "Same as sub, but also return the number of substitutions made"
   ]
  },
  {
   "cell_type": "code",
   "execution_count": 68,
   "metadata": {},
   "outputs": [
    {
     "data": {
      "text/plain": [
       "('PyThon is greaT.', 2)"
      ]
     },
     "execution_count": 68,
     "metadata": {},
     "output_type": "execute_result"
    }
   ],
   "source": [
    "re.subn('t', 'T', 'Python is great.')"
   ]
  },
  {
   "cell_type": "markdown",
   "metadata": {},
   "source": [
    "Split\n",
    "\n",
    "Split a string by the occurrences of a pattern and return a list of substrings cut \n",
    "by the pattern"
   ]
  },
  {
   "cell_type": "code",
   "execution_count": 72,
   "metadata": {},
   "outputs": [
    {
     "data": {
      "text/plain": [
       "['Python', 'is', 'great', '']"
      ]
     },
     "execution_count": 72,
     "metadata": {},
     "output_type": "execute_result"
    }
   ],
   "source": [
    "re.split(r'\\W+', 'Python is great.')"
   ]
  },
  {
   "cell_type": "code",
   "execution_count": 3,
   "metadata": {},
   "outputs": [
    {
     "data": {
      "text/plain": [
       "['I am from ',\n",
       " '  MDT32 my ',\n",
       " ' mobile number is 9 8 7 6 ',\n",
       " ' 45 12 3 5 6',\n",
       " ' 66 6 6 am']"
      ]
     },
     "execution_count": 3,
     "metadata": {},
     "output_type": "execute_result"
    }
   ],
   "source": [
    "data_text = \"I am from *  MDT32 my : mobile number is 9 8 7 6 * 45 12 3 5 6: 66 6 6 am\"\n",
    "pattern = r'[*:]'\n",
    "data_text_splitted = re.split(pattern, data_text)\n",
    "data_text_splitted"
   ]
  },
  {
   "cell_type": "markdown",
   "metadata": {},
   "source": [
    "Findall\n",
    "\n",
    "Find all occurrences of a pattern in a string and return a list of matches"
   ]
  },
  {
   "cell_type": "code",
   "execution_count": 73,
   "metadata": {},
   "outputs": [
    {
     "data": {
      "text/plain": [
       "['t', 't']"
      ]
     },
     "execution_count": 73,
     "metadata": {},
     "output_type": "execute_result"
    }
   ],
   "source": [
    "re.findall('t', 'Python is great.')"
   ]
  },
  {
   "cell_type": "code",
   "execution_count": 7,
   "metadata": {},
   "outputs": [
    {
     "name": "stdout",
     "output_type": "stream",
     "text": [
      "['32', '9', '8', '7', '6', '45', '12', '3', '5', '6', '66', '6', '6']\n"
     ]
    }
   ],
   "source": [
    "# Find all occurences in the text\n",
    "data_text = \"Hello I am from MDT32 my mobile number is 9 8 7 6 45 12 3 5 6 66 6 6\"\n",
    "pattern = r'\\d+'\n",
    "matches_from_data_text = re.findall(pattern, data_text)\n",
    "print(matches_from_data_text)"
   ]
  },
  {
   "cell_type": "markdown",
   "metadata": {},
   "source": [
    "Finditer\n",
    "\n",
    "Return an iterator yielding a match object for each match"
   ]
  },
  {
   "cell_type": "code",
   "execution_count": 74,
   "metadata": {},
   "outputs": [
    {
     "data": {
      "text/plain": [
       "<callable_iterator at 0x288d19b53c0>"
      ]
     },
     "execution_count": 74,
     "metadata": {},
     "output_type": "execute_result"
    }
   ],
   "source": [
    "re.finditer('t', 'Python is great.')"
   ]
  },
  {
   "cell_type": "markdown",
   "metadata": {},
   "source": [
    "Escape\n",
    "\n",
    "Backslash all nonalphanumerics in a string"
   ]
  },
  {
   "cell_type": "code",
   "execution_count": 75,
   "metadata": {},
   "outputs": [
    {
     "data": {
      "text/plain": [
       "'1800\\\\.941\\\\.7896'"
      ]
     },
     "execution_count": 75,
     "metadata": {},
     "output_type": "execute_result"
    }
   ],
   "source": [
    "re.escape('1800.941.7896')"
   ]
  },
  {
   "cell_type": "markdown",
   "metadata": {},
   "source": [
    "Purge\n",
    "\n",
    "Clear the regular expression cache"
   ]
  },
  {
   "cell_type": "code",
   "execution_count": 76,
   "metadata": {},
   "outputs": [],
   "source": [
    "re.purge()"
   ]
  },
  {
   "cell_type": "markdown",
   "metadata": {},
   "source": [
    "Program on Regular Expression\n",
    "\n",
    "we will write a program to check if a name given \n",
    "by a user is legitimate Python identifier"
   ]
  },
  {
   "cell_type": "code",
   "execution_count": 77,
   "metadata": {},
   "outputs": [
    {
     "name": "stdout",
     "output_type": "stream",
     "text": [
      "Congratulations! vaild identifier!\n"
     ]
    }
   ],
   "source": [
    "import re\n",
    "idPatt = r'\\b_{0,2}[A-Za-z](_?[A-Za-z0-9])*_{0,2}\\b'\n",
    "name = input('Give me a name and I will tell you if it is a Python identifier:')\n",
    "name = name.strip()\n",
    "if re.match(idPatt, name) is not None:\n",
    "    print('Congratulations! vaild identifier!')\n",
    "else:\n",
    "    print('Sorry, it is not a valis identifier')"
   ]
  },
  {
   "cell_type": "code",
   "execution_count": 79,
   "metadata": {},
   "outputs": [],
   "source": [
    "#another code\n",
    "# idPatt = '(^[A-Za-z]\\w+)$|(^_[A-Za-z]\\w+_$)|(^__[A-Za-z]\\w+__$)'"
   ]
  }
 ],
 "metadata": {
  "kernelspec": {
   "display_name": "Python 3",
   "language": "python",
   "name": "python3"
  },
  "language_info": {
   "codemirror_mode": {
    "name": "ipython",
    "version": 3
   },
   "file_extension": ".py",
   "mimetype": "text/x-python",
   "name": "python",
   "nbconvert_exporter": "python",
   "pygments_lexer": "ipython3",
   "version": "3.12.3"
  }
 },
 "nbformat": 4,
 "nbformat_minor": 2
}
