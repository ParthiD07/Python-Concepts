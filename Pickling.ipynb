{
 "cells": [
  {
   "cell_type": "markdown",
   "metadata": {},
   "source": [
    "Pickling"
   ]
  },
  {
   "cell_type": "markdown",
   "metadata": {},
   "source": [
    "\n",
    "Pickling is a process in Python used for serializing and deserializing objects. Serialization refers to converting a Python object into a byte stream, while deserialization is the inverse process, converting a byte stream back into a Python object. The pickle module in Python is used for this purpose"
   ]
  },
  {
   "cell_type": "markdown",
   "metadata": {},
   "source": [
    "Why Use Pickling?"
   ]
  },
  {
   "cell_type": "markdown",
   "metadata": {},
   "source": [
    "Pickling is useful for saving the state of an object to a file, so it can be loaded later, preserving the object's data and structure. This is particularly useful for saving machine learning models, configurations, or any other objects that need to be reused or transferred between different parts of a program or even different programs."
   ]
  },
  {
   "cell_type": "markdown",
   "metadata": {},
   "source": [
    "Importing the Module"
   ]
  },
  {
   "cell_type": "code",
   "execution_count": 2,
   "metadata": {},
   "outputs": [],
   "source": [
    "import pickle"
   ]
  },
  {
   "cell_type": "markdown",
   "metadata": {},
   "source": [
    "Pickling an Object"
   ]
  },
  {
   "cell_type": "markdown",
   "metadata": {},
   "source": [
    "To pickle an object, you use the pickle.dump() function, which writes the serialized object to a file."
   ]
  },
  {
   "cell_type": "code",
   "execution_count": 2,
   "metadata": {},
   "outputs": [],
   "source": [
    "# Create a sample object\n",
    "data_pickle = {'name': 'Alice', 'age': 25, 'city': 'New York'}\n",
    "\n",
    "# Open a file in binary write mode\n",
    "with open('data_pickle.pkl', 'wb') as file:\n",
    "    # Serialize and save the object\n",
    "    pickle.dump(data_pickle, file)"
   ]
  },
  {
   "cell_type": "markdown",
   "metadata": {},
   "source": [
    "Unpickling an Object"
   ]
  },
  {
   "cell_type": "markdown",
   "metadata": {},
   "source": [
    "To unpickle an object, you use the pickle.load() function, which reads the serialized object from a file and deserializes it."
   ]
  },
  {
   "cell_type": "code",
   "execution_count": 3,
   "metadata": {},
   "outputs": [
    {
     "name": "stdout",
     "output_type": "stream",
     "text": [
      "{'name': 'Alice', 'age': 25, 'city': 'New York'}\n"
     ]
    }
   ],
   "source": [
    "with open('data_pickle.pkl', 'rb') as file:\n",
    "    # Load and deserialize the object\n",
    "    loaded_data = pickle.load(file)\n",
    "\n",
    "# Print the loaded object\n",
    "print(loaded_data)"
   ]
  },
  {
   "cell_type": "markdown",
   "metadata": {},
   "source": [
    "Handling Exceptions"
   ]
  },
  {
   "cell_type": "markdown",
   "metadata": {},
   "source": [
    "When working with file operations, it’s a good practice to handle exceptions that might occur, such as file not found or permission errors."
   ]
  },
  {
   "cell_type": "code",
   "execution_count": 4,
   "metadata": {},
   "outputs": [
    {
     "name": "stdout",
     "output_type": "stream",
     "text": [
      "Data pickled successfully.\n",
      "Data unpickled successfully.\n",
      "{'id': '09', 'name': 'Nitin', 'department': 'Finance'}\n"
     ]
    }
   ],
   "source": [
    "import pickle\n",
    "import os\n",
    "\n",
    "# Sample data\n",
    "details = {\"id\":\"09\", \"name\": \"Nitin\", \"department\":\"Finance\"}\n",
    "\n",
    "try:\n",
    "    # Pickling the data\n",
    "    with open('details_pickle.pkl', 'wb') as file:\n",
    "        pickle.dump(details, file)\n",
    "        print('Data pickled successfully.')\n",
    "except (OSError, pickle.PicklingError) as e:\n",
    "    print(f'Error pickling data: {e}')\n",
    "\n",
    "try:\n",
    "    # Unpickling the data\n",
    "    with open('details_pickle.pkl', 'rb') as file:\n",
    "        loaded_data = pickle.load(file)\n",
    "        print('Data unpickled successfully.')\n",
    "except (OSError, pickle.UnpicklingError) as e:\n",
    "    print(f'Error unpickling data: {e}')\n",
    "\n",
    "# Display the loaded data\n",
    "print(loaded_data)"
   ]
  }
 ],
 "metadata": {
  "kernelspec": {
   "display_name": "Python 3",
   "language": "python",
   "name": "python3"
  },
  "language_info": {
   "codemirror_mode": {
    "name": "ipython",
    "version": 3
   },
   "file_extension": ".py",
   "mimetype": "text/x-python",
   "name": "python",
   "nbconvert_exporter": "python",
   "pygments_lexer": "ipython3",
   "version": "3.12.3"
  }
 },
 "nbformat": 4,
 "nbformat_minor": 2
}
