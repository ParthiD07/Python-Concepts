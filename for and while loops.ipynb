{
 "cells": [
  {
   "cell_type": "markdown",
   "metadata": {},
   "source": [
    "Loops"
   ]
  },
  {
   "cell_type": "code",
   "execution_count": 2,
   "metadata": {},
   "outputs": [],
   "source": [
    "#IT IS A PROCESS OF REPEATING THE SAME THING UNTILL THE CONDITION GETS STASTIFY"
   ]
  },
  {
   "cell_type": "code",
   "execution_count": 3,
   "metadata": {},
   "outputs": [],
   "source": [
    "#FOR LOOP--- WHEN WE KNOW THE NUMBER OF ITERATION\n",
    "#WHILE LOOP--- WHEN WE DID'NT KNOW THE NUMBER OF ITERATION."
   ]
  },
  {
   "cell_type": "markdown",
   "metadata": {},
   "source": [
    "for loop"
   ]
  },
  {
   "cell_type": "code",
   "execution_count": 4,
   "metadata": {},
   "outputs": [
    {
     "name": "stdout",
     "output_type": "stream",
     "text": [
      "1\n",
      "2\n",
      "3\n",
      "4\n",
      "5\n",
      "6\n",
      "7\n",
      "8\n",
      "9\n",
      "10\n"
     ]
    }
   ],
   "source": [
    "A=[1,2,3,4,5,6,7,8,9,10]\n",
    "for i in A:\n",
    "  print(i)"
   ]
  },
  {
   "cell_type": "code",
   "execution_count": 5,
   "metadata": {},
   "outputs": [
    {
     "name": "stdout",
     "output_type": "stream",
     "text": [
      "1 is odd\n",
      "2 is even\n",
      "3 is odd\n",
      "4 is even\n",
      "5 is odd\n",
      "6 is even\n",
      "7 is odd\n",
      "8 is even\n",
      "9 is odd\n",
      "10 is even\n"
     ]
    }
   ],
   "source": [
    "A=[1,2,3,4,5,6,7,8,9,10]\n",
    "for i in A:\n",
    "  if i%2==0:\n",
    "    print(i, 'is even')\n",
    "  else:\n",
    "    print(i, 'is odd')"
   ]
  },
  {
   "cell_type": "code",
   "execution_count": 6,
   "metadata": {},
   "outputs": [
    {
     "name": "stdout",
     "output_type": "stream",
     "text": [
      "[2, 4, 6, 8, 10]\n",
      "[1, 3, 5, 7, 9]\n"
     ]
    }
   ],
   "source": [
    "A=[1,2,3,4,5,6,7,8,9,10]\n",
    "even=[]\n",
    "odd=[]\n",
    "for i in A:\n",
    "  if i%2==0:\n",
    "    even.append(i)\n",
    "  else:\n",
    "    odd.append(i)\n",
    "print(even)\n",
    "print(odd)"
   ]
  },
  {
   "cell_type": "markdown",
   "metadata": {},
   "source": [
    "Range"
   ]
  },
  {
   "cell_type": "code",
   "execution_count": 7,
   "metadata": {},
   "outputs": [
    {
     "name": "stdout",
     "output_type": "stream",
     "text": [
      "1\n",
      "2\n",
      "3\n",
      "4\n",
      "5\n",
      "6\n",
      "7\n",
      "8\n",
      "9\n"
     ]
    }
   ],
   "source": [
    "for i in range(1,10):\n",
    "  print(i)"
   ]
  },
  {
   "cell_type": "code",
   "execution_count": 8,
   "metadata": {},
   "outputs": [
    {
     "name": "stdout",
     "output_type": "stream",
     "text": [
      "10\n",
      "9\n",
      "8\n",
      "7\n",
      "6\n",
      "5\n",
      "4\n",
      "3\n",
      "2\n"
     ]
    }
   ],
   "source": [
    "for i in range(10,1,-1):\n",
    "  print(i)"
   ]
  },
  {
   "cell_type": "code",
   "execution_count": 9,
   "metadata": {},
   "outputs": [
    {
     "name": "stdout",
     "output_type": "stream",
     "text": [
      "1\n",
      "3\n",
      "5\n",
      "7\n",
      "9\n"
     ]
    }
   ],
   "source": [
    "for i in range(1,10,2):\n",
    "  print(i)"
   ]
  },
  {
   "cell_type": "code",
   "execution_count": 10,
   "metadata": {},
   "outputs": [
    {
     "name": "stdout",
     "output_type": "stream",
     "text": [
      "[4, 2, 5, 7, 8, 9, 1, 3, 4, 5]\n"
     ]
    }
   ],
   "source": [
    "a=[]\n",
    "for i in range (10):\n",
    "    num=int(input())\n",
    "    a.append(num)\n",
    "print(a)"
   ]
  },
  {
   "cell_type": "code",
   "execution_count": 50,
   "metadata": {},
   "outputs": [
    {
     "name": "stdout",
     "output_type": "stream",
     "text": [
      "1 Apple\n",
      "2 Orange\n"
     ]
    }
   ],
   "source": [
    "#Dictionary to execute in loop\n",
    "dict1={1:'Apple',2:'Orange'}\n",
    "for x,y in dict1.items():\n",
    " print(x,y)"
   ]
  },
  {
   "cell_type": "code",
   "execution_count": 4,
   "metadata": {},
   "outputs": [
    {
     "name": "stdout",
     "output_type": "stream",
     "text": [
      "1\n",
      "2\n",
      "4\n",
      "7\n",
      "8\n"
     ]
    }
   ],
   "source": [
    "for i in range (1,11):\n",
    "    if i%3==0 or i%5==0:\n",
    "        continue\n",
    "    print(i)"
   ]
  },
  {
   "cell_type": "code",
   "execution_count": 6,
   "metadata": {},
   "outputs": [
    {
     "name": "stdout",
     "output_type": "stream",
     "text": [
      "2\n",
      "4\n",
      "6\n",
      "8\n",
      "10\n"
     ]
    }
   ],
   "source": [
    "for i in range (1,11):\n",
    "    if i%2==0:\n",
    "        print(i)"
   ]
  },
  {
   "cell_type": "code",
   "execution_count": 7,
   "metadata": {},
   "outputs": [
    {
     "name": "stdout",
     "output_type": "stream",
     "text": [
      "1\n",
      "2\n",
      "3\n",
      "4\n",
      "6\n",
      "7\n",
      "8\n",
      "9\n",
      "11\n",
      "12\n",
      "13\n",
      "14\n",
      "16\n",
      "17\n",
      "18\n",
      "19\n"
     ]
    }
   ],
   "source": [
    "for i in range (0,21):\n",
    "    if i % 5 !=0:\n",
    "        print(i)"
   ]
  },
  {
   "cell_type": "code",
   "execution_count": 24,
   "metadata": {},
   "outputs": [
    {
     "name": "stdout",
     "output_type": "stream",
     "text": [
      "s*i*m*p*l*i*l*e*a*r*n*"
     ]
    }
   ],
   "source": [
    "s= 'simplilearn'\n",
    "for i in s:\n",
    "    print(i,end='*')"
   ]
  },
  {
   "cell_type": "code",
   "execution_count": 35,
   "metadata": {},
   "outputs": [
    {
     "name": "stdout",
     "output_type": "stream",
     "text": [
      "8\n"
     ]
    }
   ],
   "source": [
    "arr=[]\n",
    "for i in range(3):\n",
    "    arr.append(int(input()))\n",
    "print(max(arr))\n",
    "            "
   ]
  },
  {
   "cell_type": "code",
   "execution_count": 37,
   "metadata": {},
   "outputs": [
    {
     "name": "stdout",
     "output_type": "stream",
     "text": [
      "120\n"
     ]
    }
   ],
   "source": [
    "num=int(input())\n",
    "product=1\n",
    "for i in range(1,num+1):\n",
    "    product=product*i\n",
    "print(product)"
   ]
  },
  {
   "cell_type": "code",
   "execution_count": 38,
   "metadata": {},
   "outputs": [
    {
     "name": "stdout",
     "output_type": "stream",
     "text": [
      "g u v i "
     ]
    }
   ],
   "source": [
    "a='guvi'\n",
    "for i in a:\n",
    "    print(i,end=\" \")"
   ]
  },
  {
   "cell_type": "code",
   "execution_count": 40,
   "metadata": {},
   "outputs": [
    {
     "name": "stdout",
     "output_type": "stream",
     "text": [
      "11\n"
     ]
    }
   ],
   "source": [
    "#1 + 4 + 6 => 11 (using for loop)\n",
    "num=146\n",
    "sum=0\n",
    "for i in str(num):\n",
    "    sum+=int(i)\n",
    "print(sum)"
   ]
  },
  {
   "cell_type": "code",
   "execution_count": 3,
   "metadata": {},
   "outputs": [
    {
     "name": "stdout",
     "output_type": "stream",
     "text": [
      "Candy\n",
      "Candy\n",
      "Candy\n",
      "Candy\n",
      "Candy\n",
      "out of stock\n"
     ]
    }
   ],
   "source": [
    "available = 5\n",
    "num_candy= int(input('enter the candy:'))\n",
    "i=1\n",
    "while i<=num_candy:\n",
    "    if i>available:\n",
    "        print('out of stock')\n",
    "        break\n",
    "    print('Candy')\n",
    "    i=i+1"
   ]
  },
  {
   "cell_type": "code",
   "execution_count": 11,
   "metadata": {},
   "outputs": [
    {
     "name": "stdout",
     "output_type": "stream",
     "text": [
      "we will display each letter of: Google\n",
      "G\n",
      "o\n",
      "o\n",
      "g\n",
      "l\n",
      "e\n",
      "we will display each letter of: Apple\n",
      "A\n",
      "p\n",
      "p\n",
      "l\n",
      "e\n",
      "we will display each letter of: PWC\n",
      "P\n",
      "W\n",
      "C\n",
      "we will display each letter of: Uber\n",
      "U\n",
      "b\n",
      "e\n",
      "r\n"
     ]
    }
   ],
   "source": [
    "companies= ['Google','Apple', 'PWC', 'Uber']\n",
    "for i in companies:\n",
    "    print('we will display each letter of:',i)\n",
    "    for j in i:\n",
    "        print(j)"
   ]
  },
  {
   "cell_type": "markdown",
   "metadata": {},
   "source": [
    "Excercise: find the prime number"
   ]
  },
  {
   "cell_type": "code",
   "execution_count": 33,
   "metadata": {},
   "outputs": [
    {
     "name": "stdout",
     "output_type": "stream",
     "text": [
      "23 is Prime number\n"
     ]
    }
   ],
   "source": [
    "#method 1\n",
    "num=23\n",
    "flag=0\n",
    "for i in range(2,num):\n",
    "    if num%i==0:\n",
    "        flag+=1\n",
    "        break\n",
    "if flag==0:\n",
    "    print(f'{num} is Prime number')\n",
    "else:\n",
    "    print(f'{num} is not Prime number')"
   ]
  },
  {
   "cell_type": "code",
   "execution_count": 34,
   "metadata": {},
   "outputs": [
    {
     "name": "stdout",
     "output_type": "stream",
     "text": [
      "55 is not Prime number\n"
     ]
    }
   ],
   "source": [
    "#method 2\n",
    "num=55\n",
    "for i in range(2,num):\n",
    "    if num%i==0:\n",
    "        print(f'{num} is not Prime number')\n",
    "        break\n",
    "else:\n",
    "    print(f'{num} is Prime number')"
   ]
  },
  {
   "cell_type": "markdown",
   "metadata": {},
   "source": [
    "Pattern Exercise"
   ]
  },
  {
   "cell_type": "code",
   "execution_count": 15,
   "metadata": {},
   "outputs": [
    {
     "name": "stdout",
     "output_type": "stream",
     "text": [
      "# # # # # \n",
      "# # # # # \n",
      "# # # # # \n",
      "# # # # # \n",
      "# # # # # \n"
     ]
    }
   ],
   "source": [
    "for i in range (5):\n",
    "    for j in range (5):\n",
    "        print('# ', end=\"\")\n",
    "    print()"
   ]
  },
  {
   "cell_type": "code",
   "execution_count": 20,
   "metadata": {},
   "outputs": [
    {
     "name": "stdout",
     "output_type": "stream",
     "text": [
      "*\n",
      "**\n",
      "***\n",
      "****\n",
      "*****\n",
      "******\n"
     ]
    }
   ],
   "source": [
    "n= int(input('Enter the number of rows:'))\n",
    "for i in range (0,n):\n",
    "    for j in range (0,i+1):\n",
    "        print('*', end='')\n",
    "    print()\n",
    "    "
   ]
  },
  {
   "cell_type": "code",
   "execution_count": 16,
   "metadata": {},
   "outputs": [
    {
     "name": "stdout",
     "output_type": "stream",
     "text": [
      "# \n",
      "# # \n",
      "# # # \n",
      "# # # # \n",
      "# # # # # \n"
     ]
    }
   ],
   "source": [
    "for i in range (5):\n",
    "    for j in range (i+1):\n",
    "        print('# ', end=\"\")\n",
    "    print()"
   ]
  },
  {
   "cell_type": "code",
   "execution_count": 17,
   "metadata": {},
   "outputs": [
    {
     "name": "stdout",
     "output_type": "stream",
     "text": [
      "# # # # # \n",
      "# # # # \n",
      "# # # \n",
      "# # \n",
      "# \n"
     ]
    }
   ],
   "source": [
    "for i in range (5):\n",
    "    for j in range (5-i):\n",
    "        print('# ', end=\"\")\n",
    "    print()"
   ]
  },
  {
   "cell_type": "code",
   "execution_count": 18,
   "metadata": {},
   "outputs": [
    {
     "name": "stdout",
     "output_type": "stream",
     "text": [
      "                  *   \n",
      "                 *  *   \n",
      "                *  *  *   \n",
      "               *  *  *  *   \n",
      "              *  *  *  *  *   \n",
      "             *  *  *  *  *  *   \n",
      "            *  *  *  *  *  *  *   \n",
      "           *  *  *  *  *  *  *  *   \n",
      "          *  *  *  *  *  *  *  *  *   \n",
      "         *  *  *  *  *  *  *  *  *  *   \n"
     ]
    }
   ],
   "source": [
    "size = 10\n",
    "m = (2 * size) - 2\n",
    "for i in range(0, size):\n",
    "    for j in range(0, m):\n",
    "        print(end=\" \")\n",
    "    m = m - 1 # decrementing m after each loop\n",
    "    for j in range(0, i + 1):\n",
    "        # printing full Triangle pyramid using stars\n",
    "        print(\"* \", end=' ')\n",
    "    print(\" \")"
   ]
  },
  {
   "cell_type": "markdown",
   "metadata": {},
   "source": [
    "for else statement"
   ]
  },
  {
   "cell_type": "code",
   "execution_count": 19,
   "metadata": {},
   "outputs": [
    {
     "name": "stdout",
     "output_type": "stream",
     "text": [
      "15\n"
     ]
    }
   ],
   "source": [
    "nums= [12,15,16,19,20]\n",
    "for num in nums:\n",
    "    if num%5==0:\n",
    "        print(num)\n",
    "        break\n",
    "else:\n",
    "    print('not found')"
   ]
  },
  {
   "cell_type": "markdown",
   "metadata": {},
   "source": [
    "Program to print table of given number"
   ]
  },
  {
   "cell_type": "code",
   "execution_count": 22,
   "metadata": {},
   "outputs": [
    {
     "name": "stdout",
     "output_type": "stream",
     "text": [
      "1 * 7 = 7\n",
      "2 * 7 = 14\n",
      "3 * 7 = 21\n",
      "4 * 7 = 28\n",
      "5 * 7 = 35\n",
      "6 * 7 = 42\n",
      "7 * 7 = 49\n",
      "8 * 7 = 56\n",
      "9 * 7 = 63\n",
      "10 * 7 = 70\n"
     ]
    }
   ],
   "source": [
    "num= int(input('Enter any number:'))\n",
    "for i in range (1,11):\n",
    "    print(i,'*',num,'=',num*i)"
   ]
  },
  {
   "cell_type": "markdown",
   "metadata": {},
   "source": [
    "Find the average of the list of numbers"
   ]
  },
  {
   "cell_type": "code",
   "execution_count": 23,
   "metadata": {},
   "outputs": [
    {
     "name": "stdout",
     "output_type": "stream",
     "text": [
      "Total sum of list: 214\n",
      "Average of the list: 42.8\n"
     ]
    }
   ],
   "source": [
    "List = [12,23,34,56,89]\n",
    "sum=0\n",
    "for i in List:\n",
    "    sum = sum + i\n",
    "print('Total sum of list:',sum)\n",
    "print('Average of the list:', sum/len(List))"
   ]
  },
  {
   "cell_type": "markdown",
   "metadata": {},
   "source": [
    "Find greatest integer in list"
   ]
  },
  {
   "cell_type": "code",
   "execution_count": 12,
   "metadata": {},
   "outputs": [
    {
     "name": "stdout",
     "output_type": "stream",
     "text": [
      "15\n"
     ]
    }
   ],
   "source": [
    "sample= [11,12,13,14,15]\n",
    "for i in range (0,len(sample)-1,1):\n",
    "    if sample[i] > sample [i+1]:\n",
    "        pass\n",
    "    else:\n",
    "        temp_val= sample [i+1]\n",
    "print(temp_val)"
   ]
  },
  {
   "cell_type": "code",
   "execution_count": 13,
   "metadata": {},
   "outputs": [
    {
     "name": "stdout",
     "output_type": "stream",
     "text": [
      "110\n"
     ]
    }
   ],
   "source": [
    "sorted= [56,34,89,110,23]\n",
    "temp_val =sorted[0]\n",
    "for i in range (0,len(sorted)-1,1):\n",
    "    if temp_val > sorted[i]:\n",
    "        pass\n",
    "    else:\n",
    "        temp_val =sorted[i]\n",
    "print(temp_val)"
   ]
  },
  {
   "cell_type": "markdown",
   "metadata": {},
   "source": [
    "Looping Techniques"
   ]
  },
  {
   "cell_type": "code",
   "execution_count": 25,
   "metadata": {},
   "outputs": [
    {
     "name": "stdout",
     "output_type": "stream",
     "text": [
      "Neymar,Mbappe,Kane,Ronaldo,Messi,"
     ]
    }
   ],
   "source": [
    "Players= ['Messi', 'Ronaldo', 'Kane', 'Mbappe', 'Neymar']\n",
    "for i in reversed(Players): #reverse\n",
    "    print(i,end=',')\n"
   ]
  },
  {
   "cell_type": "code",
   "execution_count": 28,
   "metadata": {},
   "outputs": [
    {
     "name": "stdout",
     "output_type": "stream",
     "text": [
      "Ronaldo,Neymar,Messi,Mbappe,Kane,"
     ]
    }
   ],
   "source": [
    "Players= ['Messi', 'Ronaldo', 'Kane', 'Mbappe', 'Neymar']\n",
    "for i in sorted(Players, reverse=True): #descending\n",
    "    print(i,end=',')"
   ]
  },
  {
   "cell_type": "code",
   "execution_count": 29,
   "metadata": {},
   "outputs": [
    {
     "name": "stdout",
     "output_type": "stream",
     "text": [
      "Ronaldo, Neymar, Messi, Mbappe, Kane\n"
     ]
    }
   ],
   "source": [
    "Players = ['Messi', 'Ronaldo', 'Kane', 'Mbappe', 'Neymar']\n",
    "\n",
    "# Sort the list in descending order\n",
    "sorted_players = sorted(Players, reverse=True)\n",
    "\n",
    "# Join the sorted list into a single string with commas in between\n",
    "result = ', '.join(sorted_players)\n",
    "\n",
    "# Print the result\n",
    "print(result)"
   ]
  },
  {
   "cell_type": "code",
   "execution_count": 32,
   "metadata": {},
   "outputs": [
    {
     "name": "stdout",
     "output_type": "stream",
     "text": [
      "Kane,Mbappe,Messi,Neymar,Ronaldo,"
     ]
    }
   ],
   "source": [
    "Players= ['Messi', 'Ronaldo', 'Kane', 'Mbappe', 'Neymar']\n",
    "for i in sorted(Players): # ascending\n",
    "    print(i,end=',')"
   ]
  },
  {
   "cell_type": "markdown",
   "metadata": {},
   "source": [
    "While loop"
   ]
  },
  {
   "cell_type": "code",
   "execution_count": 41,
   "metadata": {},
   "outputs": [
    {
     "name": "stdout",
     "output_type": "stream",
     "text": [
      "0\n",
      "1\n",
      "2\n",
      "3\n",
      "4\n",
      "5\n",
      "6\n",
      "7\n",
      "8\n",
      "9\n"
     ]
    }
   ],
   "source": [
    "i=0\n",
    "while i<10:\n",
    "    print(i)\n",
    "    i=i+1"
   ]
  },
  {
   "cell_type": "code",
   "execution_count": 42,
   "metadata": {},
   "outputs": [
    {
     "name": "stdout",
     "output_type": "stream",
     "text": [
      "the condition is true\n",
      "the condition is true\n",
      "the condition is true\n",
      "the condition is true\n",
      "the condition is true\n",
      "End of loop\n"
     ]
    }
   ],
   "source": [
    "count=0\n",
    "while count<5:\n",
    "    print('the condition is true')\n",
    "    count= count+1\n",
    "print('End of loop')"
   ]
  },
  {
   "cell_type": "code",
   "execution_count": 51,
   "metadata": {},
   "outputs": [
    {
     "name": "stdout",
     "output_type": "stream",
     "text": [
      "11\n"
     ]
    }
   ],
   "source": [
    "#1 + 4 + 6 => 11 (using while loop)\n",
    "num=146\n",
    "sum=0\n",
    "while num>0:\n",
    "    rem=num%10\n",
    "    sum+=rem\n",
    "    num//=10\n",
    "print(sum)"
   ]
  },
  {
   "cell_type": "code",
   "execution_count": 43,
   "metadata": {},
   "outputs": [
    {
     "name": "stdout",
     "output_type": "stream",
     "text": [
      "Enter your name\n",
      "Enter your name\n",
      "Enter your name\n",
      "you have entered the correct name\n"
     ]
    }
   ],
   "source": [
    "while True:\n",
    "    print('Enter your name')\n",
    "    name= input()\n",
    "    if name == 'Parthi':\n",
    "        break\n",
    "print(\"you have entered the correct name\")"
   ]
  },
  {
   "cell_type": "code",
   "execution_count": 44,
   "metadata": {},
   "outputs": [
    {
     "name": "stdout",
     "output_type": "stream",
     "text": [
      "28 is divisble by both 4 & 7\n"
     ]
    }
   ],
   "source": [
    "x=0\n",
    "while True:\n",
    "    x= x+1\n",
    "    if not (x%7 or x%4):\n",
    "        break\n",
    "print(x, \"is divisble by both 4 & 7\")"
   ]
  },
  {
   "cell_type": "code",
   "execution_count": 47,
   "metadata": {},
   "outputs": [
    {
     "name": "stdout",
     "output_type": "stream",
     "text": [
      "Sum of the positive value: 11 Average of the positive value: 5.5\n"
     ]
    }
   ],
   "source": [
    "#enter the positive number and if u enter negative number the loop will end & \n",
    "# print the sum and avg\n",
    "num=0\n",
    "sum=0\n",
    "count=0\n",
    "while num>=0:\n",
    "    num= int(input('enter any positive value:'))\n",
    "    if num>=0:\n",
    "        count=count+1\n",
    "        sum =sum+num\n",
    "avg= sum/count\n",
    "print('Sum of the positive value:', sum, 'Average of the positive value:',avg)"
   ]
  },
  {
   "cell_type": "markdown",
   "metadata": {},
   "source": [
    "Guessing game in python"
   ]
  },
  {
   "cell_type": "code",
   "execution_count": 49,
   "metadata": {},
   "outputs": [
    {
     "name": "stdout",
     "output_type": "stream",
     "text": [
      "85\n",
      "Your Guess is high\n",
      "You Guessed it correctly\n"
     ]
    }
   ],
   "source": [
    "import random\n",
    "n= random.randint(1,100)\n",
    "print(n)\n",
    "Guess= int(input('Enter number from 1 to 100:'))\n",
    "while n != Guess:\n",
    "    if Guess < n:\n",
    "        print('Your Guess is low')\n",
    "    elif Guess > n:\n",
    "        print('Your Guess is high')\n",
    "    Guess= int(input('Enter number from 1 to 100:'))\n",
    "\n",
    "print('You Guessed it correctly')"
   ]
  },
  {
   "cell_type": "code",
   "execution_count": 9,
   "metadata": {},
   "outputs": [
    {
     "name": "stdout",
     "output_type": "stream",
     "text": [
      "Parthi Jhansi Jhansi Jhansi Jhansi \n",
      "Parthi Jhansi Jhansi Jhansi Jhansi \n",
      "Parthi Jhansi Jhansi Jhansi Jhansi \n",
      "Parthi Jhansi Jhansi Jhansi Jhansi \n",
      "Parthi Jhansi Jhansi Jhansi Jhansi \n"
     ]
    }
   ],
   "source": [
    "i= 1\n",
    "while i<=5:\n",
    "    print('Parthi ',end=\"\")\n",
    "    j= 1\n",
    "    while j<=4:\n",
    "        print('Jhansi ',end=\"\")\n",
    "        j=j+1\n",
    "    i=i+1\n",
    "    print()"
   ]
  },
  {
   "cell_type": "code",
   "execution_count": null,
   "metadata": {},
   "outputs": [],
   "source": []
  }
 ],
 "metadata": {
  "kernelspec": {
   "display_name": "Python 3",
   "language": "python",
   "name": "python3"
  },
  "language_info": {
   "codemirror_mode": {
    "name": "ipython",
    "version": 3
   },
   "file_extension": ".py",
   "mimetype": "text/x-python",
   "name": "python",
   "nbconvert_exporter": "python",
   "pygments_lexer": "ipython3",
   "version": "3.12.3"
  }
 },
 "nbformat": 4,
 "nbformat_minor": 2
}
