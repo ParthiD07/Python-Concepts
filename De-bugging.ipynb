{
 "cells": [
  {
   "cell_type": "markdown",
   "metadata": {},
   "source": [
    "Debugging "
   ]
  },
  {
   "cell_type": "markdown",
   "metadata": {},
   "source": [
    "Debugging is the process of identifying and removing errors or bugs from a program. Python provides several tools and techniques to make debugging easier and more efficient"
   ]
  },
  {
   "cell_type": "markdown",
   "metadata": {},
   "source": [
    "Print Statements"
   ]
  },
  {
   "cell_type": "markdown",
   "metadata": {},
   "source": [
    "The simplest way to debug a program is by using print statements to display the values of variables at various points in the program"
   ]
  },
  {
   "cell_type": "code",
   "execution_count": 2,
   "metadata": {},
   "outputs": [
    {
     "name": "stdout",
     "output_type": "stream",
     "text": [
      "Values of a and b: 10, 2\n",
      "Result: 5.0\n"
     ]
    }
   ],
   "source": [
    "def divide(a, b):\n",
    "    print(f\"Values of a and b: {a}, {b}\")\n",
    "    return a / b\n",
    "\n",
    "result = divide(10, 2)\n",
    "print(f\"Result: {result}\")"
   ]
  },
  {
   "cell_type": "markdown",
   "metadata": {},
   "source": [
    "The pdb Module"
   ]
  },
  {
   "cell_type": "markdown",
   "metadata": {},
   "source": [
    "Python’s built-in debugger module pdb provides a way to interactively debug your code"
   ]
  },
  {
   "cell_type": "markdown",
   "metadata": {},
   "source": [
    "Common pdb Commands\n",
    "\n",
    "n (next): Continue execution until the next line.\n",
    "\n",
    "c (continue): Continue execution until the next breakpoint.\n",
    "\n",
    "q (quit): Quit the debugger.\n",
    "\n",
    "p (print): Print the value of an expression."
   ]
  },
  {
   "cell_type": "code",
   "execution_count": 3,
   "metadata": {},
   "outputs": [
    {
     "name": "stdout",
     "output_type": "stream",
     "text": [
      "> \u001b[1;32mc:\\users\\user\\appdata\\local\\temp\\ipykernel_23468\\136850017.py\u001b[0m(6)\u001b[0;36mcalculator\u001b[1;34m()\u001b[0m\n",
      "\n"
     ]
    }
   ],
   "source": [
    "import pdb\n",
    "def secondary_function(a1, b1):\n",
    "  return a1 * b1\n",
    "def calculator(a, b):\n",
    "  pdb.set_trace()\n",
    "  result1 = secondary_function(a, b)\n",
    "  summation = a + b\n",
    "  difference = a - b\n",
    "\n",
    "  return (result1, summation, difference)\n",
    "x, y = 5, 10\n",
    "result = calculator(x, y)"
   ]
  },
  {
   "cell_type": "markdown",
   "metadata": {},
   "source": [
    "Using IDEs with Debugging Support"
   ]
  },
  {
   "cell_type": "markdown",
   "metadata": {},
   "source": [
    "Many Integrated Development Environments (IDEs) like PyCharm, Visual Studio Code, and others come with built-in debugging tools. These tools offer advanced features like breakpoints, variable inspection, step-through execution, and more"
   ]
  }
 ],
 "metadata": {
  "kernelspec": {
   "display_name": "Python 3",
   "language": "python",
   "name": "python3"
  },
  "language_info": {
   "codemirror_mode": {
    "name": "ipython",
    "version": 3
   },
   "file_extension": ".py",
   "mimetype": "text/x-python",
   "name": "python",
   "nbconvert_exporter": "python",
   "pygments_lexer": "ipython3",
   "version": "3.12.3"
  }
 },
 "nbformat": 4,
 "nbformat_minor": 2
}
