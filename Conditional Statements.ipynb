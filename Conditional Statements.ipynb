{
 "cells": [
  {
   "cell_type": "markdown",
   "metadata": {},
   "source": [
    "Condition Statements"
   ]
  },
  {
   "cell_type": "code",
   "execution_count": null,
   "metadata": {},
   "outputs": [],
   "source": [
    "#if-else\n",
    "#if-elif-else\n",
    "#nested if"
   ]
  },
  {
   "cell_type": "markdown",
   "metadata": {},
   "source": [
    "Multiple condition without chainlink (e.g. infinite ifs)\n",
    "\n",
    "Two condition but interlinked (e.g. if and else)\n",
    "\n",
    "More than 2 condition all are interlinked (e.g. if, multiple elif and else)"
   ]
  },
  {
   "cell_type": "code",
   "execution_count": 1,
   "metadata": {},
   "outputs": [
    {
     "name": "stdout",
     "output_type": "stream",
     "text": [
      "Hi Parthi,you have passed the exam\n"
     ]
    }
   ],
   "source": [
    "#if-else\n",
    "Name = str(input('Enter your name'))\n",
    "Marks = float(input('Enter the marks'))\n",
    "if Marks > 50 :\n",
    "       print(f'Hi {Name},you have passed the exam') ## .format--it is used to bring the vaiable in output\n",
    "\n",
    "else :\n",
    "  print(f'Hi {Name},you have not  passed the exam')"
   ]
  },
  {
   "cell_type": "code",
   "execution_count": 2,
   "metadata": {},
   "outputs": [
    {
     "name": "stdout",
     "output_type": "stream",
     "text": [
      "Hi Parthi,you are  not eligible for govt seat\n"
     ]
    }
   ],
   "source": [
    "#if-elif-else\n",
    "#cutoff >190-doctor ,175 > engineer, 150 > arts, 100> diploma 100< no govt seat\n",
    "Name = str(input('Enter your name : '))\n",
    "cutoff = float(input('Enter the marks'))\n",
    "if cutoff > 190 and cutoff <=200 :\n",
    "  print(f'Hi {Name},you are eligible for medical seat')\n",
    "elif cutoff > 175 and cutoff <=190 :\n",
    "  print(f'Hi {Name},you are eligible for engineering seat')\n",
    "elif cutoff > 150 and cutoff <=175 :\n",
    "  print(f'Hi {Name},you are eligible for arts seat')\n",
    "elif cutoff > 100 and cutoff <=150:\n",
    "  print(f'Hi {Name},you are eligible for diploma seat')\n",
    "else :\n",
    "  print(f'Hi {Name},you are  not eligible for govt seat')"
   ]
  },
  {
   "cell_type": "code",
   "execution_count": 3,
   "metadata": {},
   "outputs": [
    {
     "name": "stdout",
     "output_type": "stream",
     "text": [
      "eligible to vote \n"
     ]
    }
   ],
   "source": [
    "age = int(input(\"enter your age : \"))\n",
    "if age >= 18:\n",
    "  print(\"eligible to vote \")\n",
    "else:\n",
    "  print(\"not eligible \")"
   ]
  },
  {
   "cell_type": "code",
   "execution_count": 4,
   "metadata": {},
   "outputs": [
    {
     "name": "stdout",
     "output_type": "stream",
     "text": [
      "level 2\n"
     ]
    }
   ],
   "source": [
    "#age\n",
    "#<=18 -> LEVEL 1\n",
    "#19 - 45 -> LEVEL 2\n",
    "#>45 -> LEVEL 3\n",
    "\n",
    "age = int(input(\"enter your age : \"))\n",
    "if age <= 18:\n",
    "  print(\"level 1\")\n",
    "elif age <= 45:\n",
    "  print(\"level 2\")\n",
    "else:\n",
    "  print(\"level 3\")"
   ]
  },
  {
   "cell_type": "code",
   "execution_count": 6,
   "metadata": {},
   "outputs": [
    {
     "name": "stdout",
     "output_type": "stream",
     "text": [
      "Divisible by 3 & 5\n"
     ]
    }
   ],
   "source": [
    "a=int(input())\n",
    "if (a%3==0 or a%5==0):\n",
    "    print(\"Divisible by 3 & 5\")\n",
    "else:\n",
    "    print(\"Not divisible by 3 & 5\")"
   ]
  },
  {
   "cell_type": "code",
   "execution_count": 2,
   "metadata": {},
   "outputs": [
    {
     "name": "stdout",
     "output_type": "stream",
     "text": [
      "Palindrome\n"
     ]
    }
   ],
   "source": [
    "#palindrome\n",
    "a = \"malayalam\"\n",
    "if a == a[::-1]:\n",
    "  print(\"Palindrome\")\n",
    "else:\n",
    "  print(\"not a palindrome\")"
   ]
  },
  {
   "cell_type": "code",
   "execution_count": null,
   "metadata": {},
   "outputs": [],
   "source": []
  }
 ],
 "metadata": {
  "kernelspec": {
   "display_name": "Python 3",
   "language": "python",
   "name": "python3"
  },
  "language_info": {
   "codemirror_mode": {
    "name": "ipython",
    "version": 3
   },
   "file_extension": ".py",
   "mimetype": "text/x-python",
   "name": "python",
   "nbconvert_exporter": "python",
   "pygments_lexer": "ipython3",
   "version": "3.12.3"
  }
 },
 "nbformat": 4,
 "nbformat_minor": 2
}
