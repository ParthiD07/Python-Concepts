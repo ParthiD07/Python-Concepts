{
 "cells": [
  {
   "cell_type": "markdown",
   "metadata": {},
   "source": [
    "Python JSON\n"
   ]
  },
  {
   "cell_type": "markdown",
   "metadata": {},
   "source": [
    "Python JSON JavaScript Object Notation is a format for structuring data. It is mainly used for storing and transferring data between the browser and the server. Python too supports JSON with a built-in package called JSON. This package provides all the necessary tools for working with JSON Objects including parsing, serializing, deserializing, and many more."
   ]
  },
  {
   "cell_type": "markdown",
   "metadata": {},
   "source": [
    "Parsing JSON (Loading JSON Data)"
   ]
  },
  {
   "cell_type": "code",
   "execution_count": 1,
   "metadata": {},
   "outputs": [],
   "source": [
    "import json"
   ]
  },
  {
   "cell_type": "code",
   "execution_count": 4,
   "metadata": {},
   "outputs": [
    {
     "name": "stdout",
     "output_type": "stream",
     "text": [
      "This is JSON <class 'str'>\n",
      "\n",
      "Now convert from JSON to Python\n",
      "{'id': '09', 'name': 'Nitin', 'department': 'Finance'}\n",
      "Converted to Python <class 'dict'>\n"
     ]
    }
   ],
   "source": [
    "# JSON string \n",
    "employee = '{\"id\":\"09\", \"name\": \"Nitin\", \"department\":\"Finance\"}'\n",
    "print(\"This is JSON\", type(employee)) \n",
    "  \n",
    "print(\"\\nNow convert from JSON to Python\") \n",
    "  \n",
    "# Parse JSON string to a Python dictionary\n",
    "employee_dict = json.loads(employee) \n",
    "print(employee_dict)\n",
    "print(\"Converted to Python\", type(employee_dict)) \n",
    " "
   ]
  },
  {
   "cell_type": "markdown",
   "metadata": {},
   "source": [
    "Reading JSON from a File"
   ]
  },
  {
   "cell_type": "code",
   "execution_count": 9,
   "metadata": {},
   "outputs": [
    {
     "name": "stdout",
     "output_type": "stream",
     "text": [
      "{'fruit': 'Apple', 'size': 'Large', 'color': 'Red'}\n",
      "<class 'dict'>\n"
     ]
    }
   ],
   "source": [
    "sample1=\"C:/Users/user/OneDrive/Desktop/Data Science Syllabus and notes/Python workings/sample1.json\"\n",
    "\n",
    "# Read JSON data from a file\n",
    "with open('sample1.json','r') as file:\n",
    "    data = json.load(file)\n",
    "\n",
    "print(data)\n",
    "print(type(data))"
   ]
  },
  {
   "cell_type": "markdown",
   "metadata": {},
   "source": [
    "Converting Python Objects to JSON (Dumping JSON Data)"
   ]
  },
  {
   "cell_type": "code",
   "execution_count": 11,
   "metadata": {},
   "outputs": [
    {
     "name": "stdout",
     "output_type": "stream",
     "text": [
      "This is Python <class 'dict'>\n",
      "\n",
      "Now Convert from Python to JSON\n",
      "{\"id\": \"09\", \"name\": \"Nitin\", \"department\": \"Finance\"}\n",
      "Converted to JSON <class 'str'>\n"
     ]
    }
   ],
   "source": [
    "import json \n",
    "  \n",
    "# JSON string \n",
    "employee_dict = {'id': '09', 'name': 'Nitin', 'department': 'Finance'} \n",
    "print(\"This is Python\", type(employee_dict)) \n",
    "  \n",
    "print(\"\\nNow Convert from Python to JSON\") \n",
    "  \n",
    "# Convert Python dictionary to JSON string\n",
    "json_object = json.dumps(employee_dict) # 4 indendation will be added\n",
    "print(json_object) \n",
    "print(\"Converted to JSON\", type(json_object)) \n"
   ]
  },
  {
   "cell_type": "markdown",
   "metadata": {},
   "source": [
    "Writing JSON to a File"
   ]
  },
  {
   "cell_type": "code",
   "execution_count": 12,
   "metadata": {},
   "outputs": [],
   "source": [
    "# Python dictionary\n",
    "data = {\n",
    "    \"name\": \"Bob\",\n",
    "    \"age\": 30,\n",
    "    \"city\": \"San Francisco\"\n",
    "}\n",
    "# Write JSON data to a file\n",
    "with open('data.json', 'w') as file:\n",
    "    json.dump(data, file)"
   ]
  },
  {
   "cell_type": "markdown",
   "metadata": {},
   "source": [
    "Pretty-Printing JSON"
   ]
  },
  {
   "cell_type": "markdown",
   "metadata": {},
   "source": [
    "To make the JSON output more readable, you can use the indent parameter with the json.dumps() method:"
   ]
  },
  {
   "cell_type": "code",
   "execution_count": 13,
   "metadata": {},
   "outputs": [
    {
     "name": "stdout",
     "output_type": "stream",
     "text": [
      "{\n",
      "    \"name\": \"Bob\",\n",
      "    \"age\": 30,\n",
      "    \"city\": \"San Francisco\"\n",
      "}\n"
     ]
    }
   ],
   "source": [
    "import json\n",
    "\n",
    "# Python dictionary\n",
    "data = {\n",
    "    \"name\": \"Bob\",\n",
    "    \"age\": 30,\n",
    "    \"city\": \"San Francisco\"\n",
    "}\n",
    "\n",
    "# Convert Python dictionary to a pretty-printed JSON string\n",
    "json_str = json.dumps(data, indent=4)\n",
    "\n",
    "print(json_str)"
   ]
  },
  {
   "cell_type": "markdown",
   "metadata": {},
   "source": [
    "Example\n"
   ]
  },
  {
   "cell_type": "markdown",
   "metadata": {},
   "source": [
    "Here's an example that demonstrates reading a JSON file, modifying the data, and writing it back to a new JSON file"
   ]
  },
  {
   "cell_type": "code",
   "execution_count": 14,
   "metadata": {},
   "outputs": [],
   "source": [
    "import json\n",
    "\n",
    "# Read JSON data from a file\n",
    "with open('data.json', 'r') as file:\n",
    "    data = json.load(file)\n",
    "\n",
    "# Modify the data\n",
    "data['age'] = 35\n",
    "\n",
    "# Write the modified data to a new file\n",
    "with open('new_data.json', 'w') as file:\n",
    "    json.dump(data, file, indent=4)"
   ]
  },
  {
   "cell_type": "markdown",
   "metadata": {},
   "source": [
    "Handling JSON Arrays"
   ]
  },
  {
   "cell_type": "code",
   "execution_count": 15,
   "metadata": {},
   "outputs": [
    {
     "name": "stdout",
     "output_type": "stream",
     "text": [
      "['apple', 'banana', 'cherry']\n",
      "<class 'list'>\n",
      "[\"apple\", \"banana\", \"cherry\"]\n",
      "<class 'str'>\n"
     ]
    }
   ],
   "source": [
    "# JSON array\n",
    "json_str = '[\"apple\", \"banana\", \"cherry\"]'\n",
    "\n",
    "# Parse JSON array to a Python list\n",
    "data = json.loads(json_str)\n",
    "\n",
    "print(data)\n",
    "print(type(data))\n",
    "\n",
    "# Convert Python list to JSON array\n",
    "json_str = json.dumps(data)\n",
    "\n",
    "print(json_str)\n",
    "print(type(json_str))"
   ]
  },
  {
   "cell_type": "markdown",
   "metadata": {},
   "source": [
    "Conversion Table"
   ]
  },
  {
   "attachments": {
    "image.png": {
     "image/png": "[encoded data removed]"
    }
   },
   "cell_type": "markdown",
   "metadata": {},
   "source": [
    "![image.png](attachment:image.png)"
   ]
  },
  {
   "cell_type": "code",
   "execution_count": null,
   "metadata": {},
   "outputs": [],
   "source": []
  }
 ],
 "metadata": {
  "kernelspec": {
   "display_name": "Python 3",
   "language": "python",
   "name": "python3"
  },
  "language_info": {
   "codemirror_mode": {
    "name": "ipython",
    "version": 3
   },
   "file_extension": ".py",
   "mimetype": "text/x-python",
   "name": "python",
   "nbconvert_exporter": "python",
   "pygments_lexer": "ipython3",
   "version": "3.12.3"
  }
 },
 "nbformat": 4,
 "nbformat_minor": 2
}
