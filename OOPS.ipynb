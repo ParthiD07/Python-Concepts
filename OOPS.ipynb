{
 "cells": [
  {
   "cell_type": "markdown",
   "metadata": {},
   "source": [
    "Object Oriented Programming"
   ]
  },
  {
   "cell_type": "code",
   "execution_count": null,
   "metadata": {},
   "outputs": [],
   "source": [
    "#Class is the blueprint\n",
    "#Object is the instances of a class"
   ]
  },
  {
   "cell_type": "markdown",
   "metadata": {},
   "source": [
    "Creating the Dog Class"
   ]
  },
  {
   "cell_type": "code",
   "execution_count": 39,
   "metadata": {},
   "outputs": [
    {
     "name": "stdout",
     "output_type": "stream",
     "text": [
      "my dog's name is Jhansi\n",
      "my dog is 12 years old\n"
     ]
    }
   ],
   "source": [
    "class Dog:\n",
    "    def __init__(self,name,age): # Initialize name and age attributes\n",
    "        self.name=name\n",
    "        self.age=age\n",
    "    def sit(self): #Method\n",
    "        print(f\"{self.name} is sitting now\")\n",
    "    def roll_over(self): #Method\n",
    "        print(f\"{self.name} is rolled over!\")\n",
    "#Making an Instance from a Class\n",
    "my_dog=Dog('Jhansi',12)\n",
    "#Accessing Attributes\n",
    "print(f\"my dog's name is {my_dog.name}\")\n",
    "print(f\"my dog is {my_dog.age} years old\")"
   ]
  },
  {
   "cell_type": "markdown",
   "metadata": {},
   "source": [
    "Calling Methods"
   ]
  },
  {
   "cell_type": "code",
   "execution_count": 40,
   "metadata": {},
   "outputs": [
    {
     "name": "stdout",
     "output_type": "stream",
     "text": [
      "Jhansi is sitting now\n",
      "Jhansi is rolled over!\n"
     ]
    }
   ],
   "source": [
    "my_dog.sit()\n",
    "my_dog.roll_over()"
   ]
  },
  {
   "cell_type": "markdown",
   "metadata": {},
   "source": [
    "Creating Multiple Instances/Objects"
   ]
  },
  {
   "cell_type": "code",
   "execution_count": 41,
   "metadata": {},
   "outputs": [
    {
     "name": "stdout",
     "output_type": "stream",
     "text": [
      "my dog's name is Jhansi\n",
      "my dog is 12 years old\n",
      "Jhansi is sitting now\n",
      "------------------------------\n",
      "your dog's name is Rani\n",
      "your dog is 8 years old\n",
      "Rani is sitting now\n"
     ]
    }
   ],
   "source": [
    "your_dog=Dog('Rani',8)\n",
    "\n",
    "print(f\"my dog's name is {my_dog.name}\")\n",
    "print(f\"my dog is {my_dog.age} years old\")\n",
    "my_dog.sit()\n",
    "print(\"-\"*30)\n",
    "print(f\"your dog's name is {your_dog.name}\")\n",
    "print(f\"your dog is {your_dog.age} years old\")\n",
    "your_dog.sit()"
   ]
  },
  {
   "cell_type": "markdown",
   "metadata": {},
   "source": [
    "Excercise : 1"
   ]
  },
  {
   "cell_type": "markdown",
   "metadata": {},
   "source": [
    "Restaurant: Make a class called Restaurant. The __init__() method for \n",
    "Restaurant should store two attributes: a restaurant_name and a cuisine_type. \n",
    "Make a method called describe_restaurant() that prints these two pieces of \n",
    "information, and a method called open_restaurant() that prints a message indicating that the restaurant is open.\n",
    "Make an instance called restaurant from your class. Print the two attributes individually, and then call both methods.\n",
    "\n",
    "Three Restaurants: Start with your class from Restaurant. Create three \n",
    "different instances from the class, and call describe_restaurant() for each \n",
    "instance"
   ]
  },
  {
   "cell_type": "code",
   "execution_count": 42,
   "metadata": {},
   "outputs": [],
   "source": [
    "class Restaurant:\n",
    "    def __init__(self,restaurant_name,cuisine_type):\n",
    "        self.restaurant_name= restaurant_name\n",
    "        self.cuisine_type= cuisine_type\n",
    "    def describe_restaurant(self):\n",
    "        print(f\"Restaurant_name: {self.restaurant_name}\")\n",
    "        print(f\"Cuisine_type:{self.cuisine_type}\")\n",
    "    def open_restaurant(self):\n",
    "        print(f\"The Restaurant {self.restaurant_name} is now open!\\n\")"
   ]
  },
  {
   "cell_type": "code",
   "execution_count": 17,
   "metadata": {},
   "outputs": [],
   "source": [
    "restaurant1=Restaurant('Geetham','Indian_veg')\n",
    "restaurant2=Restaurant(\"Wendy's burger\",'Amercian')\n",
    "restaurant3=Restaurant(\"Ching Wan\",'Chineese')"
   ]
  },
  {
   "cell_type": "code",
   "execution_count": 19,
   "metadata": {},
   "outputs": [
    {
     "name": "stdout",
     "output_type": "stream",
     "text": [
      "Restaurant_name: Geetham\n",
      "Cuisine_type:Indian_veg\n",
      "The Restaurant Geetham is now open!\n",
      "\n",
      "Restaurant_name: Wendy's burger\n",
      "Cuisine_type:Amercian\n",
      "The Restaurant Wendy's burger is now open!\n",
      "\n",
      "Restaurant_name: Ching Wan\n",
      "Cuisine_type:Chineese\n",
      "The Restaurant Ching Wan is now open!\n",
      "\n"
     ]
    }
   ],
   "source": [
    "restaurant1.describe_restaurant()\n",
    "restaurant1.open_restaurant()\n",
    "restaurant2.describe_restaurant()\n",
    "restaurant2.open_restaurant()\n",
    "restaurant3.describe_restaurant()\n",
    "restaurant3.open_restaurant()"
   ]
  },
  {
   "cell_type": "markdown",
   "metadata": {},
   "source": [
    "Excercise : 2"
   ]
  },
  {
   "cell_type": "markdown",
   "metadata": {},
   "source": [
    "Make a class called User. Create two attributes called first_name\n",
    "and last_name, and then create several other attributes that are typically stored \n",
    "in a user profile. Make a method called describe_user() that prints a summary \n",
    "of the user’s information. Make another method called greet_user() that prints \n",
    "a personalized greeting to the user.\n",
    "\n",
    "Create several instances representing different users, and call both methods for each user."
   ]
  },
  {
   "cell_type": "code",
   "execution_count": 26,
   "metadata": {},
   "outputs": [],
   "source": [
    "class User:\n",
    "    def __init__(self,first_name,last_name,age,email,user_name):\n",
    "        self.first_name=first_name\n",
    "        self.last_name=last_name\n",
    "        self.age=age\n",
    "        self.email=email\n",
    "        self.user_name=user_name\n",
    "    def describe_user(self):\n",
    "        print(\"User profile:\")\n",
    "        print(f\" Name:{self.first_name} {self.last_name}\")\n",
    "        print(f\" Age:{self.age}\")\n",
    "        print(f\" Email:{self.email}\")\n",
    "        print(f\" User_name:{self.user_name}\")\n",
    "    def greet_user(self):\n",
    "        print(f\"Hello, {self.first_name} welcome back!\")"
   ]
  },
  {
   "cell_type": "code",
   "execution_count": 27,
   "metadata": {},
   "outputs": [],
   "source": [
    "user1=User(\"Alice\", \"Smith\", 28, \"alice.smith@example.com\", \"alice_smith\")\n",
    "user2=User(\"Bob\", \"Johnson\", 35, \"bob.johnson@example.com\", \"bobby_j\")\n",
    "user3=User(\"Charlie\", \"Brown\", 22, \"charlie.brown@example.com\", \"charlie_brown\")"
   ]
  },
  {
   "cell_type": "code",
   "execution_count": 28,
   "metadata": {},
   "outputs": [
    {
     "name": "stdout",
     "output_type": "stream",
     "text": [
      "User profile:\n",
      " Name:Alice Smith\n",
      " Age:28\n",
      " Email:alice.smith@example.com\n",
      " User_name:alice_smith\n",
      "Hello, Alice welcome back!\n"
     ]
    }
   ],
   "source": [
    "user1.describe_user()\n",
    "user1.greet_user()"
   ]
  },
  {
   "cell_type": "code",
   "execution_count": 30,
   "metadata": {},
   "outputs": [],
   "source": [
    "users=[user1,user2,user3]"
   ]
  },
  {
   "cell_type": "code",
   "execution_count": 31,
   "metadata": {},
   "outputs": [
    {
     "name": "stdout",
     "output_type": "stream",
     "text": [
      "User profile:\n",
      " Name:Alice Smith\n",
      " Age:28\n",
      " Email:alice.smith@example.com\n",
      " User_name:alice_smith\n",
      "Hello, Alice welcome back!\n",
      "------------------------------\n",
      "User profile:\n",
      " Name:Bob Johnson\n",
      " Age:35\n",
      " Email:bob.johnson@example.com\n",
      " User_name:bobby_j\n",
      "Hello, Bob welcome back!\n",
      "------------------------------\n",
      "User profile:\n",
      " Name:Charlie Brown\n",
      " Age:22\n",
      " Email:charlie.brown@example.com\n",
      " User_name:charlie_brown\n",
      "Hello, Charlie welcome back!\n",
      "------------------------------\n"
     ]
    }
   ],
   "source": [
    "for user in users:\n",
    "    user.describe_user()\n",
    "    user.greet_user()\n",
    "    print('-' * 30)"
   ]
  },
  {
   "cell_type": "markdown",
   "metadata": {},
   "source": [
    "Working with Classes and Instances"
   ]
  },
  {
   "cell_type": "code",
   "execution_count": 1,
   "metadata": {},
   "outputs": [],
   "source": [
    "class Car:\n",
    "    def __init__(self,make,model,year):\n",
    "        self.make=make\n",
    "        self.model=model\n",
    "        self.year=year\n",
    "    def get_descriptive_name(self):\n",
    "        long_name= f\"{self.year} {self.make} {self.model}\"\n",
    "        return long_name.title()"
   ]
  },
  {
   "cell_type": "code",
   "execution_count": 44,
   "metadata": {},
   "outputs": [
    {
     "name": "stdout",
     "output_type": "stream",
     "text": [
      "2010 Hyundai I20\n"
     ]
    }
   ],
   "source": [
    "my_car=Car('hyundai','i20',2010)\n",
    "print(my_car.get_descriptive_name())"
   ]
  },
  {
   "cell_type": "markdown",
   "metadata": {},
   "source": [
    "Setting a Default Value for an Attribute"
   ]
  },
  {
   "cell_type": "code",
   "execution_count": 9,
   "metadata": {},
   "outputs": [
    {
     "name": "stdout",
     "output_type": "stream",
     "text": [
      "2010 Hyundai I20\n",
      "This car has 0 miles on it.\n"
     ]
    }
   ],
   "source": [
    "class Car:\n",
    "    def __init__(self,make,model,year):\n",
    "        self.make=make\n",
    "        self.model=model\n",
    "        self.year=year\n",
    "        self.odometer_reading =0 \n",
    "    def get_descriptive_name(self):\n",
    "        long_name= f\"{self.year} {self.make} {self.model}\"\n",
    "        return long_name.title()\n",
    "    def read_odometer(self):\n",
    "        print(f\"This car has {self.odometer_reading} miles on it.\")\n",
    "\n",
    "my_car=Car('hyundai','i20',2010)\n",
    "print(my_car.get_descriptive_name())\n",
    "my_car.read_odometer()"
   ]
  },
  {
   "cell_type": "markdown",
   "metadata": {},
   "source": [
    "Modifying Attribute Values"
   ]
  },
  {
   "cell_type": "code",
   "execution_count": 8,
   "metadata": {},
   "outputs": [
    {
     "name": "stdout",
     "output_type": "stream",
     "text": [
      "2010 Hyundai I20\n",
      "This car has 23 miles on it.\n"
     ]
    }
   ],
   "source": [
    "#Modifying an Attribute’s Value Directly\n",
    "class Car:\n",
    "    def __init__(self,make,model,year):\n",
    "        self.make=make\n",
    "        self.model=model\n",
    "        self.year=year\n",
    "        self.odometer_reading =0 \n",
    "    def get_descriptive_name(self):\n",
    "        long_name= f\"{self.year} {self.make} {self.model}\"\n",
    "        return long_name.title()\n",
    "    def read_odometer(self):\n",
    "        print(f\"This car has {self.odometer_reading} miles on it.\")\n",
    "\n",
    "my_car=Car('hyundai','i20',2010)\n",
    "print(my_car.get_descriptive_name())\n",
    "my_car.odometer_reading=23 \n",
    "my_car.read_odometer()"
   ]
  },
  {
   "cell_type": "code",
   "execution_count": 45,
   "metadata": {},
   "outputs": [
    {
     "name": "stdout",
     "output_type": "stream",
     "text": [
      "2010 Hyundai I20\n",
      "This car has 25 miles on it.\n"
     ]
    }
   ],
   "source": [
    "#Modifying an Attribute’s Value Through a Method\n",
    "class Car:\n",
    "    def __init__(self,make,model,year):\n",
    "        self.make=make\n",
    "        self.model=model\n",
    "        self.year=year\n",
    "        self.odometer_reading =0 \n",
    "    def get_descriptive_name(self):\n",
    "        long_name= f\"{self.year} {self.make} {self.model}\"\n",
    "        return long_name.title()\n",
    "    def read_odometer(self):\n",
    "        print(f\"This car has {self.odometer_reading} miles on it.\")\n",
    "    def update_odometer(self,mileage):\n",
    "        self.odometer_reading = mileage\n",
    "\n",
    "\n",
    "my_car=Car('hyundai','i20',2010)\n",
    "print(my_car.get_descriptive_name())\n",
    "my_car.update_odometer(25) \n",
    "my_car.read_odometer()"
   ]
  },
  {
   "cell_type": "code",
   "execution_count": 18,
   "metadata": {},
   "outputs": [
    {
     "name": "stdout",
     "output_type": "stream",
     "text": [
      "2010 Hyundai I20\n",
      "you can't rollback the odometer\n",
      "This car has 20 miles on it.\n"
     ]
    }
   ],
   "source": [
    "#adding if condition logic\n",
    "class Car:\n",
    "    def __init__(self,make,model,year):\n",
    "        self.make=make\n",
    "        self.model=model\n",
    "        self.year=year\n",
    "        self.odometer_reading = 20 \n",
    "    def get_descriptive_name(self):\n",
    "        long_name= f\"{self.year} {self.make} {self.model}\"\n",
    "        return long_name.title()\n",
    "    def read_odometer(self):\n",
    "        print(f\"This car has {self.odometer_reading} miles on it.\")\n",
    "    def update_odometer(self,mileage):\n",
    "        if mileage >= self.odometer_reading:\n",
    "            self.odometer_reading = mileage\n",
    "        else:\n",
    "            print(\"you can't rollback the odometer\")\n",
    "\n",
    "\n",
    "my_car=Car('hyundai','i20',2010)\n",
    "print(my_car.get_descriptive_name())\n",
    "my_car.update_odometer(0) \n",
    "my_car.read_odometer()"
   ]
  },
  {
   "cell_type": "code",
   "execution_count": 19,
   "metadata": {},
   "outputs": [
    {
     "name": "stdout",
     "output_type": "stream",
     "text": [
      "2005 Maruti Wagnor\n",
      "This car has 23500 miles on it.\n",
      "This car has 23600 miles on it.\n"
     ]
    }
   ],
   "source": [
    "#Incrementing an Attribute’s Value Through a Method\n",
    "class Car:\n",
    "    def __init__(self,make,model,year):\n",
    "        self.make=make\n",
    "        self.model=model\n",
    "        self.year=year\n",
    "        self.odometer_reading = 20 \n",
    "    def get_descriptive_name(self):\n",
    "        long_name= f\"{self.year} {self.make} {self.model}\"\n",
    "        return long_name.title()\n",
    "    def read_odometer(self):\n",
    "        print(f\"This car has {self.odometer_reading} miles on it.\")\n",
    "    def update_odometer(self,mileage):\n",
    "        if mileage >= self.odometer_reading:\n",
    "            self.odometer_reading = mileage\n",
    "        else:\n",
    "            print(\"you can't rollback the odometer\")\n",
    "    def increment_odometer(self,miles):\n",
    "        self.odometer_reading+=miles\n",
    "\n",
    "\n",
    "my_used_car=Car('maruti','wagnor',2005)\n",
    "print(my_used_car.get_descriptive_name())\n",
    "my_used_car.update_odometer(23500)\n",
    "my_used_car.read_odometer()\n",
    "my_used_car.increment_odometer(100)\n",
    "my_used_car.read_odometer()"
   ]
  },
  {
   "cell_type": "markdown",
   "metadata": {},
   "source": [
    "Excercise : 3"
   ]
  },
  {
   "cell_type": "markdown",
   "metadata": {},
   "source": [
    "Start with your program from the above Excercise.\n",
    "\n",
    "Add an attribute called number_served with a default value of 0. Create an \n",
    "instance called restaurant from this class. Print the number of customers the \n",
    "restaurant has served, and then change this value and print it again.\n",
    "\n",
    "Add a method called set_number_served() that lets you set the number of \n",
    "customers that have been served. Call this method with a new number and print \n",
    "the value again.\n",
    "Add a method called increment_number_served() that lets you increment \n",
    "the number of customers whove been served. Call this method with any number \n",
    "you like that could represent how many customers were served in, say, a day of \n",
    "business."
   ]
  },
  {
   "cell_type": "code",
   "execution_count": 35,
   "metadata": {},
   "outputs": [],
   "source": [
    "class Restaurant:\n",
    "    def __init__(self,restaurant_name,cuisine_type):\n",
    "        self.restaurant_name= restaurant_name\n",
    "        self.cuisine_type= cuisine_type\n",
    "        self.number_served =0\n",
    "\n",
    "    def describe_restaurant(self):\n",
    "        print(f\"Restaurant_name: {self.restaurant_name}\")\n",
    "        print(f\"Cuisine_type:{self.cuisine_type}\")\n",
    "    def open_restaurant(self):\n",
    "        print(f\"The Restaurant {self.restaurant_name} is now open!\\n\")\n",
    "    def set_number_served(self,number):\n",
    "        self.number_served = number\n",
    "    def increment_number_served(self,additional_served):\n",
    "        self.number_served+=additional_served\n",
    "\n"
   ]
  },
  {
   "cell_type": "code",
   "execution_count": 37,
   "metadata": {},
   "outputs": [
    {
     "name": "stdout",
     "output_type": "stream",
     "text": [
      "Restaurant_name: Geetham\n",
      "Cuisine_type:Indian_veg\n",
      "The Restaurant Geetham is now open!\n",
      "\n",
      "Number of customers served: 0.\n",
      "------------------------------\n",
      "Restaurant_name: Geetham\n",
      "Cuisine_type:Indian_veg\n",
      "The Restaurant Geetham is now open!\n",
      "\n",
      "Number of customers served: 10.\n",
      "------------------------------\n",
      "Restaurant_name: Geetham\n",
      "Cuisine_type:Indian_veg\n",
      "The Restaurant Geetham is now open!\n",
      "\n",
      "Number of customers served: 20.\n",
      "------------------------------\n",
      "Restaurant_name: Geetham\n",
      "Cuisine_type:Indian_veg\n",
      "The Restaurant Geetham is now open!\n",
      "\n",
      "Number of customers served after increment: 30.\n",
      "------------------------------\n"
     ]
    }
   ],
   "source": [
    "restaurant=Restaurant('Geetham','Indian_veg')\n",
    "#Print the number of customers the restaurant has served\n",
    "restaurant.describe_restaurant()\n",
    "restaurant.open_restaurant()\n",
    "print(f\"Number of customers served: {restaurant.number_served}.\")\n",
    "print('-' * 30)\n",
    "# Change the number of customers served\n",
    "restaurant.describe_restaurant()\n",
    "restaurant.open_restaurant()\n",
    "restaurant.number_served = 10\n",
    "print(f\"Number of customers served: {restaurant.number_served}.\")\n",
    "print('-' * 30)\n",
    "# Set the number of customers served using the method\n",
    "restaurant.describe_restaurant()\n",
    "restaurant.open_restaurant()\n",
    "restaurant.set_number_served(20)\n",
    "print(f\"Number of customers served: {restaurant.number_served}.\")\n",
    "print('-' * 30)\n",
    "# Increment the number of customers served using the method\n",
    "restaurant.describe_restaurant()\n",
    "restaurant.open_restaurant()\n",
    "restaurant.increment_number_served(10)\n",
    "print(f\"Number of customers served after increment: {restaurant.number_served}.\")\n",
    "print('-' * 30)\n"
   ]
  },
  {
   "cell_type": "markdown",
   "metadata": {},
   "source": [
    "Excercise : 4"
   ]
  },
  {
   "cell_type": "markdown",
   "metadata": {},
   "source": [
    "9-4. Number Served: Start with your program from Exercise 9-1 (page 162). \n",
    "Add an attribute called number_served with a default value of 0. Create an \n",
    "instance called restaurant from this class. Print the number of customers the \n",
    "restaurant has served, and then change this value and print it again.\n",
    "\n",
    "Add a method called set_number_served() that lets you set the number of \n",
    "customers that have been served. Call this method with a new number and print \n",
    "the value again.\n",
    "\n",
    "Add a method called increment_number_served() that lets you increment \n",
    "the number of customers who’ve been served. Call this method with any number \n",
    "you like that could represent how many customers were served in, say, a day of \n",
    "business."
   ]
  },
  {
   "cell_type": "markdown",
   "metadata": {},
   "source": [
    "Excercise : 5"
   ]
  },
  {
   "cell_type": "markdown",
   "metadata": {},
   "source": [
    "Login Attempts: Add an attribute called login_attempts to your User class \n",
    "from Exercise 9-3 (page 162). Write a method called increment_login_attempts()\n",
    "that increments the value of login_attempts by 1. Write another method called \n",
    "reset_login_attempts() that resets the value of login_attempts to 0.\n",
    "\n",
    "Make an instance of the User class and call increment_login_attempts()\n",
    "several times. Print the value of login_attempts to make sure it was incremented \n",
    "properly, and then call reset_login_attempts(). Print login_attempts again to \n",
    "make sure it was reset to 0."
   ]
  },
  {
   "cell_type": "markdown",
   "metadata": {},
   "source": [
    "Inheritance"
   ]
  },
  {
   "cell_type": "code",
   "execution_count": 2,
   "metadata": {},
   "outputs": [
    {
     "data": {
      "text/plain": [
       "'2024 Punch Tata'"
      ]
     },
     "execution_count": 2,
     "metadata": {},
     "output_type": "execute_result"
    }
   ],
   "source": [
    "class Car:\n",
    "    def __init__(self, make, model, year):\n",
    "        self.make = make\n",
    "        self.model = model\n",
    "        self.year = year\n",
    "        self.odometer_reading = 0\n",
    "    def get_descriptive_name(self):\n",
    "        long_name = f\"{self.year} {self.make} {self.model}\"\n",
    "        return long_name.title()\n",
    "    def read_odometer(self):\n",
    "        print(f\"This car has {self.odometer_reading} miles on it.\")\n",
    "    def update_odometer(self, mileage):\n",
    "        if mileage >= self.odometer_reading:\n",
    "            self.odometer_reading = mileage\n",
    "        else:\n",
    "            print(\"You can't roll back an odometer!\")\n",
    "    def increment_odometer(self, miles):\n",
    "        self.odometer_reading += miles\n",
    "\n",
    "class ElectricCar (Car):\n",
    "    def __init__(self,make,model,year): #Initialize attributes of the parent class.\n",
    "        super().__init__(make,model,year)\n",
    "\n",
    "my_ev=ElectricCar('Punch','Tata',2024)\n",
    "my_ev.get_descriptive_name()\n"
   ]
  },
  {
   "cell_type": "markdown",
   "metadata": {},
   "source": [
    "Defining Attributes and Methods for the Child Class"
   ]
  },
  {
   "cell_type": "code",
   "execution_count": 5,
   "metadata": {},
   "outputs": [
    {
     "name": "stdout",
     "output_type": "stream",
     "text": [
      "2024 Punch Tata\n",
      "This car has a 40-kwh battery\n"
     ]
    }
   ],
   "source": [
    "class Car:\n",
    "    def __init__(self, make, model, year):\n",
    "        self.make = make\n",
    "        self.model = model\n",
    "        self.year = year\n",
    "        self.odometer_reading = 0\n",
    "    def get_descriptive_name(self):\n",
    "        long_name = f\"{self.year} {self.make} {self.model}\"\n",
    "        return long_name.title()\n",
    "    def read_odometer(self):\n",
    "        print(f\"This car has {self.odometer_reading} miles on it.\")\n",
    "    def update_odometer(self, mileage):\n",
    "        if mileage >= self.odometer_reading:\n",
    "            self.odometer_reading = mileage\n",
    "        else:\n",
    "            print(\"You can't roll back an odometer!\")\n",
    "    def increment_odometer(self, miles):\n",
    "        self.odometer_reading += miles\n",
    "\n",
    "class ElectricCar (Car):\n",
    "    def __init__(self,make,model,year): #Initialize attributes of the parent class.\n",
    "        super().__init__(make,model,year)\n",
    "        self.battery_size=40\n",
    "    def describe_battery(self):\n",
    "        print(f'This car has a {self.battery_size}-kwh battery')\n",
    "\n",
    "my_ev=ElectricCar('Punch','Tata',2024)\n",
    "print(my_ev.get_descriptive_name())\n",
    "my_ev.describe_battery()"
   ]
  },
  {
   "cell_type": "markdown",
   "metadata": {},
   "source": [
    "Overriding Methods from the Parent Class"
   ]
  },
  {
   "cell_type": "code",
   "execution_count": 6,
   "metadata": {},
   "outputs": [
    {
     "name": "stdout",
     "output_type": "stream",
     "text": [
      "2010 Hyundai I20\n",
      "This car has a 20 of gas capacity\n",
      "------------------------------\n",
      "2024 Punch Tata\n",
      "This car doesn't have a gas tank!\n"
     ]
    }
   ],
   "source": [
    "class Car:\n",
    "    def __init__(self, make, model, year):\n",
    "        self.make = make\n",
    "        self.model = model\n",
    "        self.year = year\n",
    "        self.odometer_reading = 0\n",
    "        self.gas_tank = 20\n",
    "    def get_descriptive_name(self):\n",
    "        long_name = f\"{self.year} {self.make} {self.model}\"\n",
    "        return long_name.title()\n",
    "    def read_odometer(self):\n",
    "        print(f\"This car has {self.odometer_reading} miles on it.\")\n",
    "    def update_odometer(self, mileage):\n",
    "        if mileage >= self.odometer_reading:\n",
    "            self.odometer_reading = mileage\n",
    "        else:\n",
    "            print(\"You can't roll back an odometer!\")\n",
    "    def increment_odometer(self, miles):\n",
    "        self.odometer_reading += miles\n",
    "    def fill_gas_tank(self):\n",
    "        print(f'This car has a {self.gas_tank} of gas capacity')\n",
    "\n",
    "class ElectricCar (Car):\n",
    "    def __init__(self,make,model,year): #Initialize attributes of the parent class.\n",
    "        super().__init__(make,model,year)\n",
    "        self.battery_size=40\n",
    "    def describe_battery(self):\n",
    "        print(f'This car has a {self.battery_size}-kwh battery')\n",
    "    def fill_gas_tank(self):\n",
    "        print(f\"This car doesn't have a gas tank!\")\n",
    "\n",
    "my_car=Car('hyundai','i20',2010)\n",
    "print(my_car.get_descriptive_name())\n",
    "my_car.fill_gas_tank()\n",
    "print('-'*30)\n",
    "my_ev=ElectricCar('Punch','Tata',2024)\n",
    "print(my_ev.get_descriptive_name())\n",
    "my_ev.fill_gas_tank()"
   ]
  },
  {
   "cell_type": "markdown",
   "metadata": {},
   "source": [
    "Instances as Attributes"
   ]
  },
  {
   "cell_type": "code",
   "execution_count": 7,
   "metadata": {},
   "outputs": [
    {
     "name": "stdout",
     "output_type": "stream",
     "text": [
      "2024 Punch Tata\n",
      "This car has a 40-kwh battery\n"
     ]
    }
   ],
   "source": [
    "class Car:\n",
    "    def __init__(self, make, model, year):\n",
    "        self.make = make\n",
    "        self.model = model\n",
    "        self.year = year\n",
    "        self.odometer_reading = 0\n",
    "        self.gas_tank = 20\n",
    "    def get_descriptive_name(self):\n",
    "        long_name = f\"{self.year} {self.make} {self.model}\"\n",
    "        return long_name.title()\n",
    "    def read_odometer(self):\n",
    "        print(f\"This car has {self.odometer_reading} miles on it.\")\n",
    "    def update_odometer(self, mileage):\n",
    "        if mileage >= self.odometer_reading:\n",
    "            self.odometer_reading = mileage\n",
    "        else:\n",
    "            print(\"You can't roll back an odometer!\")\n",
    "    def increment_odometer(self, miles):\n",
    "        self.odometer_reading += miles\n",
    "    def fill_gas_tank(self):\n",
    "        print(f'This car has a {self.gas_tank} of gas capacity')\n",
    "\n",
    "class Battery:\n",
    "    def __init__(self,battery_size=40):\n",
    "        self.battery_size=battery_size\n",
    "    def describe_battery(self):\n",
    "        print(f'This car has a {self.battery_size}-kwh battery')\n",
    "\n",
    "class ElectricCar (Car):\n",
    "    def __init__(self,make,model,year): #Initialize attributes of the parent class.\n",
    "        super().__init__(make,model,year)\n",
    "        self.battery=Battery()\n",
    "    def fill_gas_tank(self):\n",
    "        print(f\"This car doesn't have a gas tank!\")\n",
    "\n",
    "my_ev=ElectricCar('Punch','Tata',2024)\n",
    "print(my_ev.get_descriptive_name())\n",
    "my_ev.battery.describe_battery()"
   ]
  },
  {
   "cell_type": "markdown",
   "metadata": {},
   "source": [
    "Add another method"
   ]
  },
  {
   "cell_type": "code",
   "execution_count": 9,
   "metadata": {},
   "outputs": [
    {
     "name": "stdout",
     "output_type": "stream",
     "text": [
      "2024 Punch Tata\n",
      "This car has a 40-kwh battery\n",
      "This car can go about 150 miles on a full charge.\n"
     ]
    }
   ],
   "source": [
    "class Car:\n",
    "    def __init__(self, make, model, year):\n",
    "        self.make = make\n",
    "        self.model = model\n",
    "        self.year = year\n",
    "        self.odometer_reading = 0\n",
    "        self.gas_tank = 20\n",
    "    def get_descriptive_name(self):\n",
    "        long_name = f\"{self.year} {self.make} {self.model}\"\n",
    "        return long_name.title()\n",
    "    def read_odometer(self):\n",
    "        print(f\"This car has {self.odometer_reading} miles on it.\")\n",
    "    def update_odometer(self, mileage):\n",
    "        if mileage >= self.odometer_reading:\n",
    "            self.odometer_reading = mileage\n",
    "        else:\n",
    "            print(\"You can't roll back an odometer!\")\n",
    "    def increment_odometer(self, miles):\n",
    "        self.odometer_reading += miles\n",
    "    def fill_gas_tank(self):\n",
    "        print(f'This car has a {self.gas_tank} of gas capacity')\n",
    "\n",
    "class Battery:\n",
    "    def __init__(self,battery_size=40):\n",
    "        self.battery_size=battery_size\n",
    "    def describe_battery(self):\n",
    "        print(f'This car has a {self.battery_size}-kwh battery')\n",
    "    def get_range(self):\n",
    "        if self.battery_size == 40:\n",
    "            range = 150\n",
    "        elif self.battery_size == 65:\n",
    "            range = 200\n",
    "        print(f'This car can go about {range} miles on a full charge.')\n",
    "\n",
    "class ElectricCar (Car):\n",
    "    def __init__(self,make,model,year): #Initialize attributes of the parent class.\n",
    "        super().__init__(make,model,year)\n",
    "        self.battery=Battery()\n",
    "    def fill_gas_tank(self):\n",
    "        print(f\"This car doesn't have a gas tank!\")\n",
    "\n",
    "my_ev=ElectricCar('Punch','Tata',2024)\n",
    "print(my_ev.get_descriptive_name())\n",
    "my_ev.battery.describe_battery()\n",
    "my_ev.battery.get_range()"
   ]
  },
  {
   "cell_type": "markdown",
   "metadata": {},
   "source": [
    "Excercise : 6"
   ]
  },
  {
   "cell_type": "markdown",
   "metadata": {},
   "source": [
    "9-6. Ice Cream Stand: An ice cream stand is a specific kind of restaurant. Write \n",
    "a class called IceCreamStand that inherits from the Restaurant class you wrote in \n",
    "Exercise 9-1 (page 162) or Exercise 9-4 (page 166). Either version of the class \n",
    "will work; just pick the one you like better. Add an attribute called flavors that \n",
    "stores a list of ice cream flavors. Write a method that displays these flavors. \n",
    "Create an instance of IceCreamStand, and call this method."
   ]
  },
  {
   "cell_type": "markdown",
   "metadata": {},
   "source": [
    "Excercise : 7"
   ]
  },
  {
   "cell_type": "markdown",
   "metadata": {},
   "source": [
    "9-7. Admin: An administrator is a special kind of user. Write a class called \n",
    "Admin that inherits from the User class you wrote in Exercise 9-3 (page 162) \n",
    "or Exercise 9-5 (page 167). Add an attribute, privileges, that stores a list of \n",
    "strings like \"can add post\", \"can delete post\", \"can ban user\", and so on. \n",
    "Write a method called show_privileges() that lists the administrator’s set of \n",
    "privileges. Create an instance of Admin, and call your method."
   ]
  },
  {
   "cell_type": "markdown",
   "metadata": {},
   "source": [
    "Excercise : 8"
   ]
  },
  {
   "cell_type": "markdown",
   "metadata": {},
   "source": [
    "9-8. Privileges: Write a separate Privileges class. The class should have one \n",
    "attribute, privileges, that stores a list of strings as described in Exercise 9-7. \n",
    "Move the show_privileges() method to this class. Make a Privileges instance \n",
    "as an attribute in the Admin class. Create a new instance of Admin and use your \n",
    "method to show its privileges."
   ]
  },
  {
   "cell_type": "markdown",
   "metadata": {},
   "source": [
    "Excercise : 9"
   ]
  },
  {
   "cell_type": "markdown",
   "metadata": {},
   "source": [
    "9-9. Battery Upgrade: Use the final version of electric_car.py from this section. \n",
    "Add a method to the Battery class called upgrade_battery(). This method \n",
    "should check the battery size and set the capacity to 65 if it isn’t already. Make \n",
    "an electric car with a default battery size, call get_range() once, and then \n",
    "call get_range() a second time after upgrading the battery. You should see an \n",
    "increase in the car’s range"
   ]
  },
  {
   "cell_type": "markdown",
   "metadata": {},
   "source": [
    "Importing Classes"
   ]
  },
  {
   "cell_type": "markdown",
   "metadata": {},
   "source": [
    "Importing a Single Class"
   ]
  },
  {
   "cell_type": "code",
   "execution_count": 22,
   "metadata": {},
   "outputs": [
    {
     "name": "stdout",
     "output_type": "stream",
     "text": [
      "2024 Audi A4\n",
      "This car has 23 miles on it.\n"
     ]
    }
   ],
   "source": [
    "from car import Car\n",
    "\n",
    "my_new_car= Car('audi', 'a4', 2024)\n",
    "print(my_new_car.get_descriptive_name())\n",
    "my_new_car.odometer_reading = 23\n",
    "my_new_car.read_odometer()"
   ]
  },
  {
   "cell_type": "markdown",
   "metadata": {},
   "source": [
    "Storing Multiple Classes in a Module"
   ]
  },
  {
   "cell_type": "code",
   "execution_count": 21,
   "metadata": {},
   "outputs": [
    {
     "name": "stdout",
     "output_type": "stream",
     "text": [
      "2024 Punch Tata\n",
      "This car has a 40-kwh battery\n",
      "This car can go about 150 miles on a full charge.\n"
     ]
    }
   ],
   "source": [
    "from cars import ElectricCar\n",
    "\n",
    "my_ev= ElectricCar('Punch','Tata',2024)\n",
    "print(my_ev.get_descriptive_name())\n",
    "my_ev.battery.describe_battery()\n",
    "my_ev.battery.get_range()"
   ]
  },
  {
   "cell_type": "markdown",
   "metadata": {},
   "source": [
    "Importing Multiple Classes from a Module"
   ]
  },
  {
   "cell_type": "code",
   "execution_count": 20,
   "metadata": {},
   "outputs": [
    {
     "name": "stdout",
     "output_type": "stream",
     "text": [
      "2024 Ford Mustang\n",
      "2024 Ev6 Kia\n"
     ]
    }
   ],
   "source": [
    "from cars import Car, ElectricCar\n",
    "\n",
    "my_mustang=Car('ford', 'mustang', 2024)\n",
    "print(my_mustang.get_descriptive_name())\n",
    "my_ev6= ElectricCar('ev6','kia',2024)\n",
    "print(my_ev6.get_descriptive_name())"
   ]
  },
  {
   "cell_type": "markdown",
   "metadata": {},
   "source": [
    "Importing an Entire Module"
   ]
  },
  {
   "cell_type": "code",
   "execution_count": 19,
   "metadata": {},
   "outputs": [
    {
     "name": "stdout",
     "output_type": "stream",
     "text": [
      "2024 Ford Mustang\n",
      "2024 Ev6 Kia\n"
     ]
    }
   ],
   "source": [
    "import cars\n",
    "\n",
    "my_mustang = cars.Car('ford', 'mustang', 2024) #module_name.ClassName \n",
    "print(my_mustang.get_descriptive_name())\n",
    "my_ev6= cars.ElectricCar('ev6','kia',2024) #module_name.ClassName \n",
    "print(my_ev6.get_descriptive_name())"
   ]
  },
  {
   "cell_type": "markdown",
   "metadata": {},
   "source": [
    "Importing All Classes from a Module"
   ]
  },
  {
   "cell_type": "code",
   "execution_count": 14,
   "metadata": {},
   "outputs": [],
   "source": [
    "from cars import *"
   ]
  },
  {
   "cell_type": "markdown",
   "metadata": {},
   "source": [
    "With this approach it’s unclear which classes \n",
    "you’re using from the module. This approach can also lead to confusion \n",
    "with names in the file. If you accidentally import a class with the same name \n",
    "as something else in your program file, you can create errors that are hard \n",
    "to diagnose.\n",
    "If you need to import many classes from a module, you’re better off \n",
    "importing the entire module and using the module_name.ClassName syntax. \n",
    "You won’t see all the classes used at the top of the file, but you’ll see clearly \n",
    "where the module is used in the program."
   ]
  },
  {
   "cell_type": "markdown",
   "metadata": {},
   "source": [
    "Importing a Module into a Module"
   ]
  },
  {
   "cell_type": "code",
   "execution_count": 18,
   "metadata": {},
   "outputs": [
    {
     "name": "stdout",
     "output_type": "stream",
     "text": [
      "2024 Ford Mustang\n",
      "2024 Ev6 Kia\n"
     ]
    }
   ],
   "source": [
    "from car import Car\n",
    "from electric_car import ElectricCar\n",
    "\n",
    "my_mustang = Car('ford', 'mustang', 2024)\n",
    "print(my_mustang.get_descriptive_name())\n",
    "my_ev6= ElectricCar('ev6','kia',2024) \n",
    "print(my_ev6.get_descriptive_name())"
   ]
  },
  {
   "cell_type": "markdown",
   "metadata": {},
   "source": [
    "Using Aliases"
   ]
  },
  {
   "cell_type": "markdown",
   "metadata": {},
   "source": [
    "You can give ElectricCar an alias in the import statement:"
   ]
  },
  {
   "cell_type": "code",
   "execution_count": 24,
   "metadata": {},
   "outputs": [
    {
     "name": "stdout",
     "output_type": "stream",
     "text": [
      "2024 Ev6 Kia\n"
     ]
    }
   ],
   "source": [
    "from electric_car import ElectricCar as EC\n",
    "\n",
    "my_ev6= EC('ev6','kia',2024) \n",
    "print(my_ev6.get_descriptive_name())"
   ]
  },
  {
   "cell_type": "markdown",
   "metadata": {},
   "source": [
    "You can also give a module an alias"
   ]
  },
  {
   "cell_type": "code",
   "execution_count": 25,
   "metadata": {},
   "outputs": [
    {
     "name": "stdout",
     "output_type": "stream",
     "text": [
      "2024 Ev6 Kia\n"
     ]
    }
   ],
   "source": [
    "import electric_car as ec\n",
    "\n",
    "my_ev6=  ec.ElectricCar('ev6','kia',2024) \n",
    "print(my_ev6.get_descriptive_name())"
   ]
  },
  {
   "cell_type": "markdown",
   "metadata": {},
   "source": [
    "Excercise : 10"
   ]
  },
  {
   "cell_type": "markdown",
   "metadata": {},
   "source": [
    "9-11. Imported Restaurant: Using your latest Restaurant class, store it in a mod￾ule. Make a separate file that imports Restaurant. Make a Restaurant instance, \n",
    "and call one of Restaurant’s methods to show that the import statement is work￾ing properly."
   ]
  },
  {
   "cell_type": "markdown",
   "metadata": {},
   "source": [
    "Excercise : 11"
   ]
  },
  {
   "cell_type": "markdown",
   "metadata": {},
   "source": [
    "9-11. Imported Admin: Start with your work from Exercise 9-8 (page 173). Store \n",
    "the classes User, Privileges, and Admin in one module. Create a separate file, \n",
    "make an Admin instance, and call show_privileges() to show that everything is \n",
    "working correctly."
   ]
  },
  {
   "cell_type": "markdown",
   "metadata": {},
   "source": [
    "Excercise : 12"
   ]
  },
  {
   "cell_type": "markdown",
   "metadata": {},
   "source": [
    "9-12. Multiple Modules: Store the User class in one module, and store the \n",
    "Privileges and Admin classes in a separate module. In a separate file, create \n",
    "an Admin instance and call show_privileges() to show that everything is still \n",
    "working correctly."
   ]
  },
  {
   "cell_type": "markdown",
   "metadata": {},
   "source": [
    "The Python Standard Library"
   ]
  },
  {
   "cell_type": "code",
   "execution_count": 27,
   "metadata": {},
   "outputs": [
    {
     "data": {
      "text/plain": [
       "5"
      ]
     },
     "execution_count": 27,
     "metadata": {},
     "output_type": "execute_result"
    }
   ],
   "source": [
    "from random import randint\n",
    "randint(1,6)"
   ]
  },
  {
   "cell_type": "code",
   "execution_count": 29,
   "metadata": {},
   "outputs": [
    {
     "data": {
      "text/plain": [
       "'Surya'"
      ]
     },
     "execution_count": 29,
     "metadata": {},
     "output_type": "execute_result"
    }
   ],
   "source": [
    "from random import choice\n",
    "players=['Dhoni','Virat','Rohit','Surya','Bumrah']\n",
    "opener=choice(players)\n",
    "opener"
   ]
  },
  {
   "cell_type": "markdown",
   "metadata": {},
   "source": [
    "Excercise : 13"
   ]
  },
  {
   "cell_type": "markdown",
   "metadata": {},
   "source": [
    "9-13. Dice: Make a class Die with one attribute called sides, which has a \n",
    "default value of 6. Write a method called roll_die() that prints a random num￾ber between 1 and the number of sides the die has. Make a 6-sided die and \n",
    "roll it 10 times.\n",
    "Make a 10-sided die and a 20-sided die. Roll each die 10 times."
   ]
  },
  {
   "cell_type": "markdown",
   "metadata": {},
   "source": [
    "Excercise : 14"
   ]
  },
  {
   "cell_type": "markdown",
   "metadata": {},
   "source": [
    "9-14. Lottery: Make a list or tuple containing a series of 10 numbers and 5 letters. \n",
    "Randomly select 4 numbers or letters from the list and print a message saying that \n",
    "any ticket matching these 4 numbers or letters wins a prize."
   ]
  },
  {
   "cell_type": "markdown",
   "metadata": {},
   "source": [
    "Excercise : 15"
   ]
  },
  {
   "cell_type": "markdown",
   "metadata": {},
   "source": [
    "9-15. Lottery Analysis: You can use a loop to see how hard it might be to win \n",
    "the kind of lottery you just modeled. Make a list or tuple called my_ticket. Write \n",
    "a loop that keeps pulling numbers until your ticket wins. Print a message report￾ing how many times the loop had to run to give you a winning ticket"
   ]
  },
  {
   "cell_type": "markdown",
   "metadata": {},
   "source": [
    "Excercise : 16"
   ]
  },
  {
   "cell_type": "markdown",
   "metadata": {},
   "source": [
    "9-16. Python Module of the Week: One excellent resource for exploring the \n",
    "Python standard library is a site called Python Module of the Week. Go to \n",
    "https://pymotw.com and look at the table of contents. Find a module that looks \n",
    "interesting to you and read about it, perhaps starting with the random module."
   ]
  },
  {
   "cell_type": "markdown",
   "metadata": {},
   "source": []
  }
 ],
 "metadata": {
  "kernelspec": {
   "display_name": "Python 3",
   "language": "python",
   "name": "python3"
  },
  "language_info": {
   "codemirror_mode": {
    "name": "ipython",
    "version": 3
   },
   "file_extension": ".py",
   "mimetype": "text/x-python",
   "name": "python",
   "nbconvert_exporter": "python",
   "pygments_lexer": "ipython3",
   "version": "3.12.3"
  }
 },
 "nbformat": 4,
 "nbformat_minor": 2
}
