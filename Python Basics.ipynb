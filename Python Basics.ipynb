{
 "cells": [
  {
   "cell_type": "markdown",
   "id": "30fd05bc",
   "metadata": {},
   "source": [
    "# Python"
   ]
  },
  {
   "cell_type": "markdown",
   "id": "2d67035c",
   "metadata": {},
   "source": [
    "Python was developed by Guido van Rossum. The development of Python began in the late 1980s, and its first public release (version 0.9.0) was in February 1991"
   ]
  },
  {
   "cell_type": "markdown",
   "id": "fcd9ea24",
   "metadata": {},
   "source": [
    "Why Python?"
   ]
  },
  {
   "cell_type": "markdown",
   "id": "5d7da4d6",
   "metadata": {},
   "source": [
    "Python is a popular programming language known for its simplicity and versatility. Here are some key reasons why Python is widely used and recommended:\n",
    "\n",
    "1. Readability and Simplicity\n",
    "Clean Syntax: Python's syntax is straightforward and easy to read, which makes it an excellent choice for beginners. It emphasizes readability and reduces the cost of program maintenance.\n",
    "Minimalistic Code: Python allows you to write fewer lines of code compared to other programming languages, making it quicker to develop projects.\n",
    "\n",
    "2. Versatility\n",
    "General-Purpose Language: Python is used in a wide range of applications, including web development, data analysis, artificial intelligence, machine learning, automation, scientific computing, and more.\n",
    "Cross-Platform Compatibility: Python runs on various platforms such as Windows, macOS, and Linux, making it highly versatile for different development environments.\n",
    "3. Extensive Libraries and Frameworks\n",
    "Rich Ecosystem: Python has a vast collection of libraries and frameworks that simplify many tasks. For example, pandas and numpy for data analysis, scikit-learn for machine learning, Django and Flask for web development, and TensorFlow and PyTorch for deep learning.\n",
    "Community Support: Python has a large and active community that contributes to a rich ecosystem of packages and tools. This community support means you can find libraries and modules for almost any task.\n",
    "4. Integration and Automation\n",
    "Ease of Integration: Python can easily integrate with other languages like C, C++, and Java, as well as with web services and data structures.\n",
    "Automation: Python is excellent for automating repetitive tasks, such as file handling, web scraping, and test automation, which saves time and effort.\n",
    "5. Support for Multiple Paradigms\n",
    "Object-Oriented and Procedural Programming: Python supports multiple programming paradigms, including procedural, object-oriented, and functional programming, giving developers the flexibility to choose the best approach for their projects.\n",
    "6. Educational and Research Applications\n",
    "Teaching and Learning: Python is often used as a teaching language because of its simplicity and ease of understanding. Many educational institutions and online courses use Python to introduce programming concepts.\n",
    "Research and Development: Python is widely used in academic research and scientific computing due to its simplicity and the availability of specialized libraries.\n",
    "7. Strong Support for Data Science and AI\n",
    "Data Science: Python is the language of choice for data scientists due to its powerful libraries like pandas, numpy, matplotlib, and seaborn for data manipulation, analysis, and visualization.\n",
    "Artificial Intelligence and Machine Learning: Python is heavily used in AI and ML because of libraries like scikit-learn, TensorFlow, Keras, and PyTorch, which provide robust tools for building complex models.\n",
    "8. Community and Industry Adoption\n",
    "Industry Standard: Many top companies, including Google, Facebook, and Instagram, use Python for various applications, indicating its reliability and performance.\n",
    "Community: Python's large and active community means continuous improvement and a wealth of resources, tutorials, and documentation."
   ]
  },
  {
   "cell_type": "markdown",
   "id": "4415263d",
   "metadata": {},
   "source": [
    "Python- IDE (Integrated Development Environment)"
   ]
  },
  {
   "cell_type": "markdown",
   "id": "25054d85",
   "metadata": {},
   "source": [
    "Integrated Development Environments (IDEs) are essential tools for coding, offering features that streamline development, debugging, and deployment processes.  Python has in-built IDLE- Integrated Development Learning Environment, however this is recommended for practising simple codes not recommended for projects and complex functions."
   ]
  },
  {
   "cell_type": "markdown",
   "id": "6ff21a0e",
   "metadata": {},
   "source": [
    "Code, Develop, Build, Test, Deploy"
   ]
  },
  {
   "cell_type": "markdown",
   "id": "5b7891fc",
   "metadata": {},
   "source": [
    "Hello World Program"
   ]
  },
  {
   "cell_type": "code",
   "execution_count": 12,
   "id": "beccdd47",
   "metadata": {},
   "outputs": [
    {
     "name": "stdout",
     "output_type": "stream",
     "text": [
      "hello world\n"
     ]
    }
   ],
   "source": [
    "#PRINT-IT IS USED TO print THE OUTPUT\n",
    "print (\"hello world\")"
   ]
  },
  {
   "cell_type": "code",
   "execution_count": 13,
   "id": "ba909daf",
   "metadata": {},
   "outputs": [
    {
     "name": "stdout",
     "output_type": "stream",
     "text": [
      "65\n"
     ]
    }
   ],
   "source": [
    "print (65)"
   ]
  },
  {
   "cell_type": "markdown",
   "id": "60821925",
   "metadata": {},
   "source": [
    "Variables"
   ]
  },
  {
   "cell_type": "code",
   "execution_count": 15,
   "id": "22594be0",
   "metadata": {},
   "outputs": [],
   "source": [
    "#variable-- it is container to store the values,coding....\n",
    "\n",
    "#Variable Rules:\n",
    "\n",
    "#variables should not contain any space inbetween\n",
    "#variables should conatin with alpha,numericals and only a special character '_' and no $%&*\n",
    "#Variables should not starts with number\n",
    "#variabes can start with alphabets and _"
   ]
  },
  {
   "cell_type": "code",
   "execution_count": 10,
   "id": "61486337",
   "metadata": {},
   "outputs": [
    {
     "data": {
      "text/plain": [
       "33"
      ]
     },
     "execution_count": 10,
     "metadata": {},
     "output_type": "execute_result"
    }
   ],
   "source": [
    "a = 33 #--> a- Variable name, = is assignment opeartor , 33 - Value\n",
    "a"
   ]
  },
  {
   "cell_type": "code",
   "execution_count": 19,
   "id": "b652a237",
   "metadata": {},
   "outputs": [],
   "source": [
    "#user_defined- snake case\n",
    "#userDefined--camel case\n",
    "#UserDefined- pascal case"
   ]
  },
  {
   "cell_type": "code",
   "execution_count": 20,
   "id": "273e8133",
   "metadata": {},
   "outputs": [],
   "source": [
    "_ =88"
   ]
  },
  {
   "cell_type": "code",
   "execution_count": 21,
   "id": "07a85024",
   "metadata": {},
   "outputs": [
    {
     "ename": "SyntaxError",
     "evalue": "invalid decimal literal (995767678.py, line 2)",
     "output_type": "error",
     "traceback": [
      "\u001b[1;36m  Cell \u001b[1;32mIn[21], line 2\u001b[1;36m\u001b[0m\n\u001b[1;33m    1guvi=\u001b[0m\n\u001b[1;37m    ^\u001b[0m\n\u001b[1;31mSyntaxError\u001b[0m\u001b[1;31m:\u001b[0m invalid decimal literal\n"
     ]
    }
   ],
   "source": [
    "user_defined&=\n",
    "1guvi=\n",
    "User_defined="
   ]
  },
  {
   "cell_type": "markdown",
   "id": "1859d6f8",
   "metadata": {},
   "source": [
    "Assigning variables to group of characters"
   ]
  },
  {
   "cell_type": "code",
   "execution_count": 2,
   "id": "fe3f0f36",
   "metadata": {},
   "outputs": [
    {
     "name": "stdout",
     "output_type": "stream",
     "text": [
      "BMW\n",
      "Hyundai\n",
      "Toyota\n"
     ]
    }
   ],
   "source": [
    "cars= ['BMW','Hyundai','Toyota']\n",
    "x,y,z= cars\n",
    "print(x)\n",
    "print(y)\n",
    "print(z)"
   ]
  },
  {
   "cell_type": "code",
   "execution_count": 42,
   "id": "e5eb589f",
   "metadata": {},
   "outputs": [
    {
     "name": "stdout",
     "output_type": "stream",
     "text": [
      "india\n",
      "india\n",
      "india\n"
     ]
    }
   ],
   "source": [
    "a = b = c = \"india\"\n",
    "print(a)\n",
    "print(b)\n",
    "print(c)"
   ]
  },
  {
   "cell_type": "code",
   "execution_count": 43,
   "id": "3de6a2d0",
   "metadata": {},
   "outputs": [
    {
     "name": "stdout",
     "output_type": "stream",
     "text": [
      "india\n",
      "pakistan\n",
      "china\n"
     ]
    }
   ],
   "source": [
    "a,b,c = \"india\",\"pakistan\",\"china\"\n",
    "print(a)\n",
    "print(b)\n",
    "print(c)"
   ]
  },
  {
   "cell_type": "code",
   "execution_count": 44,
   "id": "d77fbce1",
   "metadata": {},
   "outputs": [
    {
     "name": "stdout",
     "output_type": "stream",
     "text": [
      "india\n",
      "india\n"
     ]
    }
   ],
   "source": [
    "#variable reassignment\n",
    "a = \"india\"\n",
    "b = \"pakistan\"\n",
    "b = a\n",
    "print(a)\n",
    "print(b)"
   ]
  },
  {
   "cell_type": "code",
   "execution_count": 45,
   "id": "b1e7786d",
   "metadata": {},
   "outputs": [
    {
     "ename": "TypeError",
     "evalue": "unsupported operand type(s) for +: 'int' and 'str'",
     "output_type": "error",
     "traceback": [
      "\u001b[1;31m---------------------------------------------------------------------------\u001b[0m",
      "\u001b[1;31mTypeError\u001b[0m                                 Traceback (most recent call last)",
      "Cell \u001b[1;32mIn[45], line 3\u001b[0m\n\u001b[0;32m      1\u001b[0m a \u001b[38;5;241m=\u001b[39m \u001b[38;5;241m10\u001b[39m\n\u001b[0;32m      2\u001b[0m b \u001b[38;5;241m=\u001b[39m \u001b[38;5;124m\"\u001b[39m\u001b[38;5;124mhello\u001b[39m\u001b[38;5;124m\"\u001b[39m\n\u001b[1;32m----> 3\u001b[0m c \u001b[38;5;241m=\u001b[39m \u001b[43ma\u001b[49m\u001b[43m \u001b[49m\u001b[38;5;241;43m+\u001b[39;49m\u001b[43m \u001b[49m\u001b[43mb\u001b[49m  \u001b[38;5;66;03m# This will result in a TypeError because you cannot add an integer and a string.\u001b[39;00m\n\u001b[0;32m      4\u001b[0m \u001b[38;5;28mprint\u001b[39m(a)  \u001b[38;5;66;03m# Output: 10\u001b[39;00m\n\u001b[0;32m      5\u001b[0m \u001b[38;5;28mprint\u001b[39m(b)  \u001b[38;5;66;03m# Output: \"hello\"\u001b[39;00m\n",
      "\u001b[1;31mTypeError\u001b[0m: unsupported operand type(s) for +: 'int' and 'str'"
     ]
    }
   ],
   "source": [
    "a = 10\n",
    "b = \"hello\"\n",
    "c = a + b  # This will result in a TypeError because you cannot add an integer and a string.\n",
    "print(a)  # Output: 10\n",
    "print(b)  # Output: \"hello\"\n",
    "del a  # Delete variable a\n",
    "# print(a)  # This will result in a NameError because variable a is not defined."
   ]
  },
  {
   "cell_type": "code",
   "execution_count": 46,
   "id": "5465601b",
   "metadata": {},
   "outputs": [
    {
     "name": "stdout",
     "output_type": "stream",
     "text": [
      "china\n"
     ]
    }
   ],
   "source": [
    "#case sensitive\n",
    "A = \"india\"\n",
    "a = \"china\"\n",
    "print(a)"
   ]
  },
  {
   "cell_type": "markdown",
   "id": "71f2a515",
   "metadata": {},
   "source": [
    "Data types"
   ]
  },
  {
   "cell_type": "code",
   "execution_count": 22,
   "id": "c44a9318",
   "metadata": {},
   "outputs": [],
   "source": [
    "#numeric--integer,float,complex\n",
    "#string- ' ',\" \",''' '''\n",
    "#boolean-True/False\n",
    "#complex"
   ]
  },
  {
   "cell_type": "code",
   "execution_count": 23,
   "id": "df0b8869",
   "metadata": {},
   "outputs": [],
   "source": [
    "#integer-whole number--phone number,password,postal code,age,count"
   ]
  },
  {
   "cell_type": "code",
   "execution_count": 24,
   "id": "f4833fe0",
   "metadata": {},
   "outputs": [],
   "source": [
    "a=77\n",
    "a=-77"
   ]
  },
  {
   "cell_type": "code",
   "execution_count": 47,
   "id": "86592a99",
   "metadata": {},
   "outputs": [
    {
     "data": {
      "text/plain": [
       "int"
      ]
     },
     "execution_count": 47,
     "metadata": {},
     "output_type": "execute_result"
    }
   ],
   "source": [
    "a=-25\n",
    "type(a)"
   ]
  },
  {
   "cell_type": "code",
   "execution_count": 25,
   "id": "7f9716dd",
   "metadata": {},
   "outputs": [],
   "source": [
    "#float--decimal values--temp,average, height,weight,interest rate, price,"
   ]
  },
  {
   "cell_type": "code",
   "execution_count": 26,
   "id": "64407cc4",
   "metadata": {},
   "outputs": [],
   "source": [
    "a=-66.9\n",
    "a=66.9"
   ]
  },
  {
   "cell_type": "code",
   "execution_count": 48,
   "id": "a484b3f1",
   "metadata": {},
   "outputs": [
    {
     "data": {
      "text/plain": [
       "float"
      ]
     },
     "execution_count": 48,
     "metadata": {},
     "output_type": "execute_result"
    }
   ],
   "source": [
    "a=-9.8\n",
    "type(a)"
   ]
  },
  {
   "cell_type": "code",
   "execution_count": 5,
   "id": "98908ff8",
   "metadata": {},
   "outputs": [
    {
     "data": {
      "text/plain": [
       "complex"
      ]
     },
     "execution_count": 5,
     "metadata": {},
     "output_type": "execute_result"
    }
   ],
   "source": [
    "#complex\n",
    "a=5+6J\n",
    "type(a)"
   ]
  },
  {
   "cell_type": "code",
   "execution_count": 6,
   "id": "52a20d16",
   "metadata": {},
   "outputs": [
    {
     "data": {
      "text/plain": [
       "5.0"
      ]
     },
     "execution_count": 6,
     "metadata": {},
     "output_type": "execute_result"
    }
   ],
   "source": [
    "a.real"
   ]
  },
  {
   "cell_type": "code",
   "execution_count": 8,
   "id": "d3d7e572",
   "metadata": {},
   "outputs": [
    {
     "data": {
      "text/plain": [
       "6.0"
      ]
     },
     "execution_count": 8,
     "metadata": {},
     "output_type": "execute_result"
    }
   ],
   "source": [
    "a.imag #imagenary"
   ]
  },
  {
   "cell_type": "code",
   "execution_count": 31,
   "id": "3fce9f7d",
   "metadata": {},
   "outputs": [
    {
     "name": "stdout",
     "output_type": "stream",
     "text": [
      "guvi\n"
     ]
    }
   ],
   "source": [
    "#string\n",
    "a='guvi'\n",
    "print(a)"
   ]
  },
  {
   "cell_type": "code",
   "execution_count": 33,
   "id": "9c10f497",
   "metadata": {},
   "outputs": [
    {
     "name": "stdout",
     "output_type": "stream",
     "text": [
      "guvi_geeks\n",
      "good morning\n"
     ]
    }
   ],
   "source": [
    "a1=\"guvi_geeks\"\n",
    "print(a1)\n",
    "a2='''good morning'''\n",
    "print(a2)"
   ]
  },
  {
   "cell_type": "code",
   "execution_count": 49,
   "id": "4b7f92e9",
   "metadata": {},
   "outputs": [
    {
     "data": {
      "text/plain": [
       "str"
      ]
     },
     "execution_count": 49,
     "metadata": {},
     "output_type": "execute_result"
    }
   ],
   "source": [
    "a = \"india\"\n",
    "type(a)"
   ]
  },
  {
   "cell_type": "code",
   "execution_count": 34,
   "id": "f6c62668",
   "metadata": {},
   "outputs": [],
   "source": [
    "#boolean data type---true/false,pass/fail,day/night.in/out,ys/not,pos/neg"
   ]
  },
  {
   "cell_type": "code",
   "execution_count": 50,
   "id": "5d1989d9",
   "metadata": {},
   "outputs": [
    {
     "data": {
      "text/plain": [
       "bool"
      ]
     },
     "execution_count": 50,
     "metadata": {},
     "output_type": "execute_result"
    }
   ],
   "source": [
    "a=True\n",
    "type(a)"
   ]
  },
  {
   "cell_type": "code",
   "execution_count": 35,
   "id": "6344d842",
   "metadata": {},
   "outputs": [
    {
     "data": {
      "text/plain": [
       "True"
      ]
     },
     "execution_count": 35,
     "metadata": {},
     "output_type": "execute_result"
    }
   ],
   "source": [
    "6>5"
   ]
  },
  {
   "cell_type": "code",
   "execution_count": 36,
   "id": "2e9cc862",
   "metadata": {},
   "outputs": [
    {
     "data": {
      "text/plain": [
       "True"
      ]
     },
     "execution_count": 36,
     "metadata": {},
     "output_type": "execute_result"
    }
   ],
   "source": [
    "6>=5"
   ]
  },
  {
   "cell_type": "code",
   "execution_count": 37,
   "id": "35488427",
   "metadata": {},
   "outputs": [
    {
     "data": {
      "text/plain": [
       "False"
      ]
     },
     "execution_count": 37,
     "metadata": {},
     "output_type": "execute_result"
    }
   ],
   "source": [
    "9<4"
   ]
  },
  {
   "cell_type": "markdown",
   "id": "9a8dbb2a",
   "metadata": {},
   "source": [
    "Type_casting"
   ]
  },
  {
   "cell_type": "code",
   "execution_count": 51,
   "id": "10d6ceb3",
   "metadata": {},
   "outputs": [
    {
     "data": {
      "text/plain": [
       "13.0"
      ]
     },
     "execution_count": 51,
     "metadata": {},
     "output_type": "execute_result"
    }
   ],
   "source": [
    "a = 13\n",
    "float(a)"
   ]
  },
  {
   "cell_type": "code",
   "execution_count": 52,
   "id": "2f3d5889",
   "metadata": {},
   "outputs": [
    {
     "data": {
      "text/plain": [
       "'13'"
      ]
     },
     "execution_count": 52,
     "metadata": {},
     "output_type": "execute_result"
    }
   ],
   "source": [
    "a=13\n",
    "str(a)"
   ]
  },
  {
   "cell_type": "code",
   "execution_count": 53,
   "id": "d75fecf9",
   "metadata": {},
   "outputs": [
    {
     "data": {
      "text/plain": [
       "False"
      ]
     },
     "execution_count": 53,
     "metadata": {},
     "output_type": "execute_result"
    }
   ],
   "source": [
    "a=0\n",
    "bool(a)"
   ]
  },
  {
   "cell_type": "code",
   "execution_count": 54,
   "id": "3c0055e1",
   "metadata": {},
   "outputs": [
    {
     "data": {
      "text/plain": [
       "34"
      ]
     },
     "execution_count": 54,
     "metadata": {},
     "output_type": "execute_result"
    }
   ],
   "source": [
    "b=34.45\n",
    "int(b)"
   ]
  },
  {
   "cell_type": "code",
   "execution_count": 55,
   "id": "9abaf0da",
   "metadata": {},
   "outputs": [
    {
     "data": {
      "text/plain": [
       "'34.45'"
      ]
     },
     "execution_count": 55,
     "metadata": {},
     "output_type": "execute_result"
    }
   ],
   "source": [
    "str(b)"
   ]
  },
  {
   "cell_type": "code",
   "execution_count": 56,
   "id": "fe50590d",
   "metadata": {},
   "outputs": [
    {
     "data": {
      "text/plain": [
       "False"
      ]
     },
     "execution_count": 56,
     "metadata": {},
     "output_type": "execute_result"
    }
   ],
   "source": [
    "b=0.0\n",
    "bool(b)"
   ]
  },
  {
   "cell_type": "code",
   "execution_count": 57,
   "id": "e0aa679a",
   "metadata": {},
   "outputs": [
    {
     "ename": "ValueError",
     "evalue": "invalid literal for int() with base 10: 'india'",
     "output_type": "error",
     "traceback": [
      "\u001b[1;31m---------------------------------------------------------------------------\u001b[0m",
      "\u001b[1;31mValueError\u001b[0m                                Traceback (most recent call last)",
      "Cell \u001b[1;32mIn[57], line 2\u001b[0m\n\u001b[0;32m      1\u001b[0m a\u001b[38;5;241m=\u001b[39m\u001b[38;5;124m\"\u001b[39m\u001b[38;5;124mindia\u001b[39m\u001b[38;5;124m\"\u001b[39m\n\u001b[1;32m----> 2\u001b[0m \u001b[38;5;28;43mint\u001b[39;49m\u001b[43m(\u001b[49m\u001b[43ma\u001b[49m\u001b[43m)\u001b[49m\n",
      "\u001b[1;31mValueError\u001b[0m: invalid literal for int() with base 10: 'india'"
     ]
    }
   ],
   "source": [
    "a=\"india\"\n",
    "int(a)"
   ]
  },
  {
   "cell_type": "code",
   "execution_count": 58,
   "id": "c5576154",
   "metadata": {},
   "outputs": [
    {
     "data": {
      "text/plain": [
       "1995"
      ]
     },
     "execution_count": 58,
     "metadata": {},
     "output_type": "execute_result"
    }
   ],
   "source": [
    "a=\"1995\"\n",
    "int(a)"
   ]
  },
  {
   "cell_type": "code",
   "execution_count": 61,
   "id": "ab62d965",
   "metadata": {},
   "outputs": [
    {
     "data": {
      "text/plain": [
       "False"
      ]
     },
     "execution_count": 61,
     "metadata": {},
     "output_type": "execute_result"
    }
   ],
   "source": [
    "#boolean\n",
    "a=\"\"\n",
    "bool(a)"
   ]
  },
  {
   "cell_type": "code",
   "execution_count": 62,
   "id": "caf02ea4",
   "metadata": {},
   "outputs": [
    {
     "data": {
      "text/plain": [
       "1"
      ]
     },
     "execution_count": 62,
     "metadata": {},
     "output_type": "execute_result"
    }
   ],
   "source": [
    "a=True\n",
    "int(a)"
   ]
  },
  {
   "cell_type": "code",
   "execution_count": 63,
   "id": "4a6410de",
   "metadata": {},
   "outputs": [
    {
     "data": {
      "text/plain": [
       "1.0"
      ]
     },
     "execution_count": 63,
     "metadata": {},
     "output_type": "execute_result"
    }
   ],
   "source": [
    "a=True\n",
    "float(a)"
   ]
  },
  {
   "cell_type": "code",
   "execution_count": 64,
   "id": "19e9b1be",
   "metadata": {},
   "outputs": [
    {
     "data": {
      "text/plain": [
       "'True'"
      ]
     },
     "execution_count": 64,
     "metadata": {},
     "output_type": "execute_result"
    }
   ],
   "source": [
    "a=True\n",
    "str(a)"
   ]
  },
  {
   "cell_type": "markdown",
   "id": "86430e93",
   "metadata": {},
   "source": [
    "Operators"
   ]
  },
  {
   "cell_type": "code",
   "execution_count": 65,
   "id": "b3f33118",
   "metadata": {},
   "outputs": [],
   "source": [
    "#operators in python\n",
    "#arithmetic operators\n",
    "#assignment operators\n",
    "#comparison operators\n",
    "#logical operators"
   ]
  },
  {
   "cell_type": "code",
   "execution_count": 66,
   "id": "e517cbd6",
   "metadata": {},
   "outputs": [
    {
     "name": "stdout",
     "output_type": "stream",
     "text": [
      "addition :  31\n",
      "subtraction :  23\n",
      "multiplication :  108\n",
      "division: 6.75\n",
      "reminder: 3\n",
      "floor division (quotient) 6\n",
      "power:  531441\n"
     ]
    }
   ],
   "source": [
    "#arithmetic\n",
    "a = 27\n",
    "b=4\n",
    "print(\"addition : \",a+b)\n",
    "print(\"subtraction : \",a-b)\n",
    "print(\"multiplication : \",a*b)\n",
    "print(\"division:\",a/b)\n",
    "print(\"reminder:\",a%b)\n",
    "print(\"floor division (quotient)\",a//b)\n",
    "print(\"power: \",a**b)"
   ]
  },
  {
   "cell_type": "code",
   "execution_count": 67,
   "id": "134d5c80",
   "metadata": {},
   "outputs": [
    {
     "name": "stdout",
     "output_type": "stream",
     "text": [
      "True\n",
      "False\n",
      "False\n",
      "False\n",
      "True\n",
      "True\n"
     ]
    }
   ],
   "source": [
    "#comparision\n",
    "a=10\n",
    "b=10\n",
    "print(a==b)\n",
    "print(a!=b)\n",
    "print(a>b)\n",
    "print(a<b)\n",
    "print(a>=b)\n",
    "print(a<=b)"
   ]
  },
  {
   "cell_type": "code",
   "execution_count": 68,
   "id": "be9cc549",
   "metadata": {},
   "outputs": [
    {
     "data": {
      "text/plain": [
       "False"
      ]
     },
     "execution_count": 68,
     "metadata": {},
     "output_type": "execute_result"
    }
   ],
   "source": [
    "#logical operator\n",
    "#and/or/not\n",
    "\n",
    "age = 79\n",
    "country = \"china\"\n",
    "\n",
    "age >= 18 and country == \"india\""
   ]
  },
  {
   "cell_type": "code",
   "execution_count": 69,
   "id": "f989f041",
   "metadata": {},
   "outputs": [
    {
     "data": {
      "text/plain": [
       "True"
      ]
     },
     "execution_count": 69,
     "metadata": {},
     "output_type": "execute_result"
    }
   ],
   "source": [
    "age = 12\n",
    "country = \"india\"\n",
    "\n",
    "age >= 18 or country == \"india\""
   ]
  },
  {
   "cell_type": "code",
   "execution_count": 70,
   "id": "dcdbec23",
   "metadata": {},
   "outputs": [
    {
     "data": {
      "text/plain": [
       "False"
      ]
     },
     "execution_count": 70,
     "metadata": {},
     "output_type": "execute_result"
    }
   ],
   "source": [
    "age = 12\n",
    "country = \"china\"\n",
    "\n",
    "age >= 18 or country == \"india\""
   ]
  },
  {
   "cell_type": "code",
   "execution_count": 71,
   "id": "383416bf",
   "metadata": {},
   "outputs": [
    {
     "data": {
      "text/plain": [
       "False"
      ]
     },
     "execution_count": 71,
     "metadata": {},
     "output_type": "execute_result"
    }
   ],
   "source": [
    "age = 25\n",
    "country = \"china\"\n",
    "\n",
    "not(age >= 18 or country == \"india\")"
   ]
  },
  {
   "cell_type": "code",
   "execution_count": 72,
   "id": "72750724",
   "metadata": {},
   "outputs": [
    {
     "name": "stdout",
     "output_type": "stream",
     "text": [
      "15\n"
     ]
    }
   ],
   "source": [
    "#assignmnt operator\n",
    "a = 10\n",
    "a = a+5\n",
    "print(a)"
   ]
  },
  {
   "cell_type": "code",
   "execution_count": 78,
   "id": "1f903d43",
   "metadata": {},
   "outputs": [
    {
     "name": "stdout",
     "output_type": "stream",
     "text": [
      "15\n"
     ]
    }
   ],
   "source": [
    "a = 10\n",
    "a += 5\n",
    "print(a)"
   ]
  },
  {
   "cell_type": "code",
   "execution_count": 79,
   "id": "4359977f",
   "metadata": {},
   "outputs": [
    {
     "data": {
      "text/plain": [
       "5"
      ]
     },
     "execution_count": 79,
     "metadata": {},
     "output_type": "execute_result"
    }
   ],
   "source": [
    "a-=10\n",
    "a"
   ]
  },
  {
   "cell_type": "code",
   "execution_count": 80,
   "id": "c2bdaaaf",
   "metadata": {},
   "outputs": [
    {
     "data": {
      "text/plain": [
       "50"
      ]
     },
     "execution_count": 80,
     "metadata": {},
     "output_type": "execute_result"
    }
   ],
   "source": [
    "a*=10\n",
    "a"
   ]
  },
  {
   "cell_type": "code",
   "execution_count": 81,
   "id": "f0c3ebb8",
   "metadata": {},
   "outputs": [
    {
     "data": {
      "text/plain": [
       "16.666666666666668"
      ]
     },
     "execution_count": 81,
     "metadata": {},
     "output_type": "execute_result"
    }
   ],
   "source": [
    "a/=3\n",
    "a"
   ]
  },
  {
   "cell_type": "markdown",
   "id": "87275617",
   "metadata": {},
   "source": [
    "User Input"
   ]
  },
  {
   "cell_type": "code",
   "execution_count": 87,
   "id": "f1e8966a",
   "metadata": {},
   "outputs": [
    {
     "data": {
      "text/plain": [
       "'Parthi'"
      ]
     },
     "execution_count": 87,
     "metadata": {},
     "output_type": "execute_result"
    }
   ],
   "source": [
    "a=input('Enter your name:')\n",
    "a"
   ]
  },
  {
   "cell_type": "code",
   "execution_count": 89,
   "id": "bfc91116",
   "metadata": {},
   "outputs": [
    {
     "data": {
      "text/plain": [
       "28"
      ]
     },
     "execution_count": 89,
     "metadata": {},
     "output_type": "execute_result"
    }
   ],
   "source": [
    "b=int(input('Enter your age:'))\n",
    "b"
   ]
  },
  {
   "cell_type": "code",
   "execution_count": 90,
   "id": "26e512ad",
   "metadata": {},
   "outputs": [
    {
     "data": {
      "text/plain": [
       "88.0"
      ]
     },
     "execution_count": 90,
     "metadata": {},
     "output_type": "execute_result"
    }
   ],
   "source": [
    "c= float(input('Enter your weight:'))\n",
    "c"
   ]
  },
  {
   "cell_type": "code",
   "execution_count": 9,
   "id": "5c18e85f",
   "metadata": {},
   "outputs": [
    {
     "name": "stdout",
     "output_type": "stream",
     "text": [
      "13\n"
     ]
    }
   ],
   "source": [
    "result = eval(input('Enter the experssion:'))\n",
    "print(result)\n"
   ]
  },
  {
   "cell_type": "markdown",
   "id": "54daaef1",
   "metadata": {},
   "source": [
    "bmi calculator\n",
    "\n",
    "bmi = weight/height**2"
   ]
  },
  {
   "cell_type": "code",
   "execution_count": 84,
   "id": "60e228a1",
   "metadata": {},
   "outputs": [
    {
     "name": "stdout",
     "output_type": "stream",
     "text": [
      "Hello ! Parthi Welcome to Guvi \n",
      "Your Bmi is  24.38\n",
      "\n",
      "\n",
      "\n",
      "Hello Parthi! \n",
      "Welcome to Guvi.\n",
      "Your BMI is 24.38\n"
     ]
    }
   ],
   "source": [
    "Name = input(\"enter your name : \")\n",
    "weight = float(input(\"enter your weight in kg : \"))\n",
    "height = float(input(\"enter your height in m : \"))\n",
    "bmi = round(weight / height**2,2)\n",
    "\n",
    "print(\"Hello !\",Name,\"Welcome to Guvi\",\"\\nYour Bmi is \",bmi)\n",
    "\n",
    "#formatted string\n",
    "print(f\"\\n\\n\\nHello {Name}! \\nWelcome to Guvi.\\nYour BMI is {bmi}\")"
   ]
  },
  {
   "cell_type": "markdown",
   "id": "f9fab96d",
   "metadata": {},
   "source": [
    "String Basics"
   ]
  },
  {
   "cell_type": "markdown",
   "id": "9b805aa9",
   "metadata": {},
   "source": [
    "Concatenation"
   ]
  },
  {
   "cell_type": "code",
   "execution_count": 1,
   "id": "3627ece6",
   "metadata": {},
   "outputs": [
    {
     "name": "stdout",
     "output_type": "stream",
     "text": [
      "welcome to simplilearn\n"
     ]
    }
   ],
   "source": [
    "#adding message in print to join the words\n",
    "x= 'simplilearn'\n",
    "print('welcome to ' + x)"
   ]
  },
  {
   "cell_type": "code",
   "execution_count": 4,
   "id": "c449c415",
   "metadata": {},
   "outputs": [
    {
     "name": "stdout",
     "output_type": "stream",
     "text": [
      "Machine Count minimum index =  0\n",
      "Machine Count maximum index =  17\n",
      "Human Count minimum index =  1\n",
      "Human Count maximum index =  18\n"
     ]
    }
   ],
   "source": [
    "# Length of Strings\n",
    "string = \"Python Programming\"\n",
    "#Machine Count minimum index = 0\n",
    "#Machine Count maximum index = len(value) - 1\n",
    "#Human Count minimum index = 1\n",
    "#Human Count maximum index = len(value)\n",
    "length_string = len(string)\n",
    "print(\"Machine Count minimum index = \", 0)\n",
    "print(\"Machine Count maximum index = \", len(string)-1)\n",
    "print(\"Human Count minimum index = \", 1)\n",
    "print(\"Human Count maximum index = \", len(string))"
   ]
  },
  {
   "cell_type": "markdown",
   "id": "c4f3c5a5",
   "metadata": {},
   "source": [
    "String slicing"
   ]
  },
  {
   "cell_type": "code",
   "execution_count": 6,
   "id": "2ea5361a",
   "metadata": {},
   "outputs": [
    {
     "name": "stdout",
     "output_type": "stream",
     "text": [
      "l\n"
     ]
    }
   ],
   "source": [
    "x= 'hello World!'\n",
    "print(x[9])"
   ]
  },
  {
   "cell_type": "code",
   "execution_count": 7,
   "id": "2874a463",
   "metadata": {},
   "outputs": [
    {
     "data": {
      "text/plain": [
       "'gninraelr'"
      ]
     },
     "execution_count": 7,
     "metadata": {},
     "output_type": "execute_result"
    }
   ],
   "source": [
    "a = \"superlearning\"\n",
    "a[-1:-10:-1] #starting index, ending index and stepping index"
   ]
  },
  {
   "cell_type": "code",
   "execution_count": 18,
   "id": "06a99401",
   "metadata": {},
   "outputs": [
    {
     "data": {
      "text/plain": [
       "'aidni'"
      ]
     },
     "execution_count": 18,
     "metadata": {},
     "output_type": "execute_result"
    }
   ],
   "source": [
    "a = \"india\"\n",
    "a[::-1]"
   ]
  },
  {
   "cell_type": "markdown",
   "id": "90adf821",
   "metadata": {},
   "source": [
    "String Methods"
   ]
  },
  {
   "cell_type": "code",
   "execution_count": 8,
   "metadata": {},
   "outputs": [
    {
     "name": "stdout",
     "output_type": "stream",
     "text": [
      "upper =  HELLO\n",
      "lower =  hello\n",
      "capitalize =  Hello\n",
      "strip =  hello\n",
      "hello\n",
      "hello\n",
      "1\n",
      "h - e - l - l - o\n",
      "['Hello ', 'orld', ' this is my pr', 'ogram']\n"
     ]
    }
   ],
   "source": [
    "input_string = 'hello'\n",
    "print(\"upper = \", input_string.upper())\n",
    "print(\"lower = \",input_string.lower())\n",
    "print(\"capitalize = \",input_string.capitalize())\n",
    "print(\"strip = \",input_string.strip())\n",
    "print(input_string.lstrip())\n",
    "print(input_string.rstrip())\n",
    "print(input_string.find('e'))\n",
    "joined_words = \" - \".join(input_string)\n",
    "print(joined_words)\n",
    "input_string2 = 'Hello worldw this is my prwogram'\n",
    "splitted_strings = input_string2.split('w')\n",
    "print(splitted_strings)"
   ]
  },
  {
   "cell_type": "code",
   "execution_count": 16,
   "id": "25c035ad",
   "metadata": {},
   "outputs": [
    {
     "name": "stdout",
     "output_type": "stream",
     "text": [
      "['apple', ' kiwi', ' pineapple', 'mango', 'grapes', ' banana']\n"
     ]
    }
   ],
   "source": [
    "fruits = 'apple, kiwi, pineapple,mango,grapes, banana'\n",
    "\n",
    "print(fruits.split(\",\"))\n"
   ]
  },
  {
   "cell_type": "code",
   "execution_count": 17,
   "id": "a03fccb5",
   "metadata": {},
   "outputs": [
    {
     "name": "stdout",
     "output_type": "stream",
     "text": [
      "The number of fruits in the list are:  6\n"
     ]
    }
   ],
   "source": [
    "print(\"The number of fruits in the list are: \" , len(fruits.split(\",\")))"
   ]
  },
  {
   "cell_type": "markdown",
   "id": "d3a73655",
   "metadata": {},
   "source": [
    "String Format method"
   ]
  },
  {
   "cell_type": "code",
   "execution_count": 13,
   "metadata": {},
   "outputs": [
    {
     "name": "stdout",
     "output_type": "stream",
     "text": [
      "Hello world this is my15 program\n",
      "Hello world this is my15 program\n"
     ]
    }
   ],
   "source": [
    "value = 15\n",
    "print('Hello world this is my{} program'.format(value))\n",
    "print(f'Hello world this is my{value} program')"
   ]
  },
  {
   "cell_type": "code",
   "execution_count": 10,
   "metadata": {},
   "outputs": [
    {
     "name": "stdout",
     "output_type": "stream",
     "text": [
      "Her name is Angela\n",
      "Her salary is 100000\n"
     ]
    }
   ],
   "source": [
    "name = 'Angela'\n",
    "salary =100000\n",
    "print('Her name is %s\\nHer salary is %d'%(name,salary))"
   ]
  }
 ],
 "metadata": {
  "kernelspec": {
   "display_name": "Python 3 (ipykernel)",
   "language": "python",
   "name": "python3"
  },
  "language_info": {
   "codemirror_mode": {
    "name": "ipython",
    "version": 3
   },
   "file_extension": ".py",
   "mimetype": "text/x-python",
   "name": "python",
   "nbconvert_exporter": "python",
   "pygments_lexer": "ipython3",
   "version": "3.12.3"
  }
 },
 "nbformat": 4,
 "nbformat_minor": 5
}
